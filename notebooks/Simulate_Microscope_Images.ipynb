{
 "cells": [
  {
   "cell_type": "markdown",
   "metadata": {},
   "source": [
    "Inspired from:\n",
    "\n",
    "- [Model Convolution: A Computational Approach to Digital Image Interpretation, 2010](https://www.ncbi.nlm.nih.gov/pmc/articles/PMC2864900/)"
   ]
  },
  {
   "cell_type": "code",
   "execution_count": 1,
   "metadata": {},
   "outputs": [
    {
     "name": "stderr",
     "output_type": "stream",
     "text": [
      "../anamic/transformations.py:1916: UserWarning: No module named 'anamic._transformations'\n",
      "  warnings.warn(str(err))\n"
     ]
    }
   ],
   "source": [
    "%matplotlib inline\n",
    "\n",
    "from pathlib import Path\n",
    "import sys\n",
    "sys.path.append(\"..\")\n",
    "\n",
    "import anamic\n",
    "\n",
    "import tqdm\n",
    "import numpy as np\n",
    "import pandas as pd\n",
    "import matplotlib.pyplot as plt\n",
    "import ipyvolume as ipv\n",
    "import skimage\n",
    "\n",
    "def imshow_cb(im, ax):\n",
    "    from mpl_toolkits.axes_grid1 import make_axes_locatable\n",
    "    \n",
    "    img = ax.imshow(im, interpolation='none', origin=[0, 0])\n",
    "    ax.set_aspect('equal')\n",
    "    divider = make_axes_locatable(ax)\n",
    "    cax = divider.append_axes(\"right\", size=\"5%\", pad=0.05)\n",
    "    plt.colorbar(img, cax=cax)"
   ]
  },
  {
   "cell_type": "code",
   "execution_count": 45,
   "metadata": {},
   "outputs": [
    {
     "name": "stdout",
     "output_type": "stream",
     "text": [
      "500\n"
     ]
    },
    {
     "data": {
      "application/vnd.jupyter.widget-view+json": {
       "model_id": "532a7e6134d24df7ba0036b3600ca062",
       "version_major": 2,
       "version_minor": 0
      },
      "text/plain": [
       "VBox(children=(Figure(camera=PerspectiveCamera(fov=46.0, position=(0.0, 0.0, 2.0), quaternion=(0.0, 0.0, 0.0, …"
      ]
     },
     "metadata": {},
     "output_type": "display_data"
    }
   ],
   "source": [
    "# Define the structure of the MT\n",
    "# as a 2D array where:\n",
    "# - x corresponds to rows of dimers.\n",
    "# - y corresponds to each protofilaments.\n",
    "\n",
    "n_pf = 13\n",
    "long_dimer_distance = 8  # nm\n",
    "mt_length = 4000  # nm\n",
    "taper_length_nm = 1500  # nm\n",
    "n_rows = int(np.round(mt_length / long_dimer_distance))\n",
    "print(n_rows)\n",
    "\n",
    "dimers = np.ones((n_pf, n_rows))\n",
    "dimers = anamic.structure.generate_uniform_taper(dimers, taper_length_nm=taper_length_nm)\n",
    "\n",
    "#_ = anamic.viz.viz_dimers(dimers, start_row=-200, grid=True)\n",
    "\n",
    "# Calculate the x, y and z positions of each dimers.\n",
    "positions = anamic.structure.get_dimer_positions(dimers)\n",
    "\n",
    "# Apply a random rotation parallell to the surface (along the z axis)\n",
    "# This is to avoid having the seam always at the same location.\n",
    "rotation = np.deg2rad(np.random.randn() * 360)\n",
    "Rz = anamic.transformations.rotation_matrix(rotation, [0, 0, 1])\n",
    "positions[['x', 'y', 'z']] = np.dot(positions[['x', 'y', 'z']].values, Rz[:3, :3].T)\n",
    "\n",
    "# Apply a certain labeling ratio\n",
    "labeling_ratio = 0.1\n",
    "positions['labeled'] = np.random.random(positions.shape[0]) < labeling_ratio\n",
    "\n",
    "anamic.viz.viz_dimer_positions(positions, size=0.4, color_feature_name='pf')"
   ]
  },
  {
   "cell_type": "code",
   "execution_count": 46,
   "metadata": {},
   "outputs": [
    {
     "data": {
      "text/plain": [
       "(3516.694539972244, 3721.694539972244)"
      ]
     },
     "execution_count": 46,
     "metadata": {},
     "output_type": "execute_result"
    },
    {
     "data": {
      "image/png": "[encoded data removed]",
      "text/plain": [
       "<Figure size 1296x432 with 2 Axes>"
      ]
     },
     "metadata": {
      "needs_background": "light"
     },
     "output_type": "display_data"
    }
   ],
   "source": [
    "# Visualize projected dimer positions on a plan.\n",
    "\n",
    "# We choose the XZ plan for projection so no need to project positions.\n",
    "\n",
    "positions[['x_proj', 'y_proj']] = positions[['x', 'z']].copy()\n",
    "\n",
    "color_feature_name = 'pf'\n",
    "marker_size = 60\n",
    "colormap = 'tab20c'\n",
    "\n",
    "fig, axs = plt.subplots(nrows=2, figsize=(18, 6), constrained_layout=True)\n",
    "\n",
    "selected_dimers = positions[(positions['visible'] == True)]\n",
    "axs[0].scatter(selected_dimers['y_proj'], selected_dimers['x_proj'], c=selected_dimers[color_feature_name],s=marker_size, cmap=colormap)\n",
    "axs[0].set_aspect('equal')\n",
    "axs[0].set_ylim(selected_dimers['x_proj'].min() - 5, selected_dimers['x_proj'].max() + 5)\n",
    "axs[0].set_xlim(selected_dimers['y_proj'].max() - 200, selected_dimers['y_proj'].max() + 5)\n",
    "\n",
    "selected_dimers = positions[(positions['visible'] == True) & (positions['labeled'] == True)]\n",
    "axs[1].scatter(selected_dimers['y_proj'], selected_dimers['x_proj'], c=selected_dimers[color_feature_name], s=marker_size, cmap=colormap)\n",
    "axs[1].set_aspect('equal')\n",
    "axs[1].set_ylim(selected_dimers['x_proj'].min() - 5, selected_dimers['x_proj'].max() + 5)\n",
    "axs[1].set_xlim(selected_dimers['y_proj'].max() - 200, selected_dimers['y_proj'].max() + 5)"
   ]
  },
  {
   "cell_type": "code",
   "execution_count": 47,
   "metadata": {},
   "outputs": [],
   "source": [
    "# Apply a random rotation of the projected microtubule\n",
    "Rx = anamic.transformations.rotation_matrix(np.deg2rad(np.random.randn() * 180), [1, 0, 0])\n",
    "Ry = anamic.transformations.rotation_matrix(np.deg2rad(np.random.randn() * 180), [0, 1, 0])\n",
    "R = anamic.transformations.concatenate_matrices(Rx, Ry)\n",
    "\n",
    "positions['x_proj_rotated'] = np.nan\n",
    "positions['y_proj_rotated'] = np.nan\n",
    "positions[['x_proj_rotated', 'y_proj_rotated']] = np.dot(positions[['x_proj', 'y_proj']].values, R[1:3, 1:3].T)\n",
    "#positions[['x_proj_rotated', 'y_proj_rotated']] = positions[['x_proj', 'y_proj']].copy()"
   ]
  },
  {
   "cell_type": "code",
   "execution_count": 165,
   "metadata": {},
   "outputs": [
    {
     "name": "stdout",
     "output_type": "stream",
     "text": [
      "11.0\n"
     ]
    }
   ],
   "source": [
    "# Discretize dimers onto an high resolution image\n",
    "\n",
    "microscope_pixel_size = 110  # nm/pixel\n",
    "pixel_size_ratio = 10\n",
    "fine_pixel_size = microscope_pixel_size / pixel_size_ratio\n",
    "print(fine_pixel_size)\n",
    "assert int(fine_pixel_size) == fine_pixel_size\n",
    "\n",
    "x_offset = 800  # nm\n",
    "y_offset = 800  # nm\n",
    "\n",
    "x_max = int(np.round(positions['x_proj_rotated'].max() + 1))\n",
    "x_min = int(np.round(positions['x_proj_rotated'].min() - 1))\n",
    "y_max = int(np.round(positions['y_proj_rotated'].max() + 1))\n",
    "y_min = int(np.round(positions['y_proj_rotated'].min() - 1))\n",
    "\n",
    "x_bins = np.arange(x_min - x_offset, x_max + x_offset, fine_pixel_size)\n",
    "y_bins = np.arange(y_min - y_offset, y_max + y_offset, fine_pixel_size)\n",
    "\n",
    "# Select visible and labeled dimers\n",
    "selected_dimers = positions[(positions['visible'] == True) & (positions['labeled'] == True)]\n",
    "\n",
    "# Bin dimers positions to a fine grid (defined by fine_pixel_size)\n",
    "im, a, b = np.histogram2d(selected_dimers['x_proj_rotated'], selected_dimers['y_proj_rotated'], bins=[x_bins, y_bins])\n",
    "\n",
    "# We also save the dimers positions on the fine grid (unit is pixel)\n",
    "positions.loc[:, 'x_pixel_fine'] = np.digitize(positions['x_proj_rotated'], x_bins)\n",
    "positions.loc[:, 'y_pixel_fine'] = np.digitize(positions['y_proj_rotated'], y_bins)\n",
    "\n",
    "# Keep the width > height consistant\n",
    "if im.shape[1] < im.shape[0]:\n",
    "    im = im.T\n",
    "    positions.loc[:, ['x_pixel_fine', 'y_pixel_fine']] = positions.loc[:, ['y_pixel_fine', 'x_pixel_fine']]\n",
    "\n",
    "# We resize the image to be a multiple of `pixel_size_ratio`.\n",
    "new_w = im.shape[0] + (pixel_size_ratio - im.shape[0] % pixel_size_ratio)\n",
    "new_h = im.shape[1] + (pixel_size_ratio - im.shape[1] % pixel_size_ratio)\n",
    "\n",
    "rows_to_add = np.zeros((new_w - im.shape[0], im.shape[1]))\n",
    "im = np.vstack((im, rows_to_add))\n",
    "\n",
    "columns_to_add = np.zeros((new_h - im.shape[1], im.shape[0])).T\n",
    "im = np.hstack((im, columns_to_add))\n",
    "\n",
    "assert im.shape == (new_w, new_h)"
   ]
  },
  {
   "cell_type": "code",
   "execution_count": 166,
   "metadata": {},
   "outputs": [],
   "source": [
    "import tifffile\n",
    "tifffile.imsave(\"/home/hadim/test2.tif\", im)"
   ]
  },
  {
   "cell_type": "code",
   "execution_count": 49,
   "metadata": {},
   "outputs": [
    {
     "data": {
      "image/png": "[encoded data removed]",
      "text/plain": [
       "<Figure size 576x576 with 2 Axes>"
      ]
     },
     "metadata": {
      "needs_background": "light"
     },
     "output_type": "display_data"
    }
   ],
   "source": [
    "fig, ax = plt.subplots(figsize=(8, 8))\n",
    "imshow_cb(im, ax)"
   ]
  },
  {
   "cell_type": "code",
   "execution_count": 50,
   "metadata": {},
   "outputs": [],
   "source": [
    "# Rebin the image to its final resolution defined by `microscope_pixel_size`.\n",
    "\n",
    "def rebin(arr, new_shape):\n",
    "    shape = (new_shape[0], arr.shape[0] // new_shape[0],\n",
    "             new_shape[1], arr.shape[1] // new_shape[1])\n",
    "    return arr.reshape(shape).sum(-1).sum(1)\n",
    "\n",
    "final_shape = np.array(im.shape) / pixel_size_ratio\n",
    "assert int(final_shape[0]) == final_shape[0]\n",
    "assert int(final_shape[1]) == final_shape[1]\n",
    "final_shape = final_shape.astype('int')\n",
    "\n",
    "im2 = rebin(im, final_shape)\n",
    "\n",
    "# Also save the dimer positions in the new grid\n",
    "positions[['x_pixel_final', 'y_pixel_final']] = positions.loc[:, ['x_pixel_fine', 'y_pixel_fine']] / pixel_size_ratio"
   ]
  },
  {
   "cell_type": "code",
   "execution_count": 51,
   "metadata": {},
   "outputs": [
    {
     "data": {
      "image/png": "[encoded data removed]",
      "text/plain": [
       "<Figure size 720x720 with 2 Axes>"
      ]
     },
     "metadata": {
      "needs_background": "light"
     },
     "output_type": "display_data"
    }
   ],
   "source": [
    "fig, ax = plt.subplots(figsize=(10, 10))\n",
    "imshow_cb(im2, ax)"
   ]
  },
  {
   "cell_type": "code",
   "execution_count": 52,
   "metadata": {},
   "outputs": [
    {
     "data": {
      "image/png": "[encoded data removed]",
      "text/plain": [
       "<Figure size 360x360 with 2 Axes>"
      ]
     },
     "metadata": {
      "needs_background": "light"
     },
     "output_type": "display_data"
    }
   ],
   "source": [
    "# Generate a microscope PSF\n",
    "\n",
    "def generate_psf(kernel_size_pixel, sigma_pixel):\n",
    "    from scipy import signal\n",
    "    gaussian_kernel_1d = signal.gaussian(kernel_size_pixel, std=sigma_pixel)\n",
    "    gaussian_kernel_1d = gaussian_kernel_1d.reshape(kernel_size_pixel, 1)\n",
    "    gaussian_kernel_2d = np.outer(gaussian_kernel_1d, gaussian_kernel_1d)\n",
    "    return gaussian_kernel_2d\n",
    "\n",
    "psf_size = 135  # nm\n",
    "sigma_pixel = psf_size / microscope_pixel_size\n",
    "\n",
    "psf = generate_psf(int(sigma_pixel * 10), sigma_pixel)\n",
    "\n",
    "fig, ax = plt.subplots(figsize=(5, 5))\n",
    "imshow_cb(psf, ax)"
   ]
  },
  {
   "cell_type": "code",
   "execution_count": null,
   "metadata": {},
   "outputs": [],
   "source": []
  },
  {
   "cell_type": "code",
   "execution_count": 163,
   "metadata": {},
   "outputs": [
    {
     "data": {
      "text/plain": [
       "<matplotlib.legend.Legend at 0x7f8087bc4be0>"
      ]
     },
     "execution_count": 163,
     "metadata": {},
     "output_type": "execute_result"
    },
    {
     "data": {
      "image/png": "[encoded data removed]",
      "text/plain": [
       "<Figure size 576x576 with 2 Axes>"
      ]
     },
     "metadata": {
      "needs_background": "light"
     },
     "output_type": "display_data"
    }
   ],
   "source": [
    "# Convolve image with PSF\n",
    "from scipy import ndimage\n",
    "im3 = ndimage.convolve(im2, psf, mode=\"constant\")\n",
    "\n",
    "# Add offset signal\n",
    "im4 = im3 + im3.max() * 0.1\n",
    "\n",
    "# Add noise\n",
    "noise_factor = 10\n",
    "noise = np.random.poisson(im4).astype(float) * noise_factor\n",
    "im4 = im4 + noise\n",
    "im4 /= 10\n",
    "\n",
    "# Get the position of the start and end of the microtubule\n",
    "selected_dimers = positions\n",
    "indexed_positions = selected_dimers.set_index('row')\n",
    "indices = np.sort(indexed_positions.index.unique())\n",
    "\n",
    "first_dimers = indexed_positions.loc[indices[0], ['y_pixel_final', 'x_pixel_final']]\n",
    "x_start, y_start = first_dimers.mean() - 0.5\n",
    "\n",
    "last_dimers = indexed_positions.loc[indices[-5:], ['y_pixel_final', 'x_pixel_final']]\n",
    "x_end, y_end = last_dimers.mean() - 0.5\n",
    "\n",
    "fig, ax = plt.subplots(figsize=(8, 8))\n",
    "\n",
    "imshow_cb(im4, ax)\n",
    "ax.scatter([x_start], [y_start], color='cyan', label='Start', marker='x')\n",
    "ax.scatter([x_end], [y_end], color='red', label='End', marker='x')\n",
    "ax.legend()"
   ]
  },
  {
   "cell_type": "code",
   "execution_count": 144,
   "metadata": {},
   "outputs": [],
   "source": [
    "import tifffile\n",
    "tifffile.imsave(\"/home/hadim/test.tif\", im4)"
   ]
  },
  {
   "cell_type": "code",
   "execution_count": 136,
   "metadata": {},
   "outputs": [],
   "source": [
    "# Estimate the SNR by thresolding\n",
    "signal_indices = np.where(im5 > 6000)\n",
    "background_indices = np.where(im5 < 6000)\n",
    "signal = im5[signal_indices]\n",
    "bg = im5[background_indices]\n",
    "snr = (signal.mean() - bg.mean()) / np.sqrt(signal.std()**2 + bg.std()**2)"
   ]
  },
  {
   "cell_type": "code",
   "execution_count": null,
   "metadata": {},
   "outputs": [],
   "source": [
    "(7)"
   ]
  }
 ],
 "metadata": {
  "kernelspec": {
   "display_name": "Python [conda env:ws]",
   "language": "python",
   "name": "conda-env-ws-py"
  },
  "language_info": {
   "codemirror_mode": {
    "name": "ipython",
    "version": 3
   },
   "file_extension": ".py",
   "mimetype": "text/x-python",
   "name": "python",
   "nbconvert_exporter": "python",
   "pygments_lexer": "ipython3",
   "version": "3.6.6"
  }
 },
 "nbformat": 4,
 "nbformat_minor": 2
}
