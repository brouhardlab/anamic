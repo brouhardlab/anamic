{
 "cells": [
  {
   "cell_type": "code",
   "execution_count": 1,
   "metadata": {},
   "outputs": [
    {
     "name": "stderr",
     "output_type": "stream",
     "text": [
      "../../anamic/transformations.py:1916: UserWarning: No module named 'anamic._transformations'\n",
      "  warnings.warn(str(err))\n"
     ]
    }
   ],
   "source": [
    "%matplotlib inline\n",
    "\n",
    "from pathlib import Path\n",
    "import sys\n",
    "sys.path.append(\"../../\")\n",
    "\n",
    "import anamic\n",
    "\n",
    "import numpy as np\n",
    "import matplotlib.pyplot as plt\n",
    "import tqdm\n",
    "\n",
    "data_dir = Path('/home/hadim/Drive/Data/Fake Microtubules/anamic')\n",
    "data_dir.mkdir(parents=True, exist_ok=True)"
   ]
  },
  {
   "cell_type": "code",
   "execution_count": null,
   "metadata": {},
   "outputs": [
    {
     "data": {
      "application/vnd.jupyter.widget-view+json": {
       "model_id": "6b38dc2d4fae4f31aa365effb28d1123",
       "version_major": 2,
       "version_minor": 0
      },
      "text/plain": [
       "HBox(children=(IntProgress(value=0, max=7), HTML(value='')))"
      ]
     },
     "metadata": {},
     "output_type": "display_data"
    },
    {
     "data": {
      "application/vnd.jupyter.widget-view+json": {
       "model_id": "30876706a61f48fa9c191ec2fe4280cc",
       "version_major": 2,
       "version_minor": 0
      },
      "text/plain": [
       "HBox(children=(IntProgress(value=0, max=5), HTML(value='')))"
      ]
     },
     "metadata": {},
     "output_type": "display_data"
    }
   ],
   "source": [
    "taper_lengths = [0, 500, 1000, 1500, 2000, 2500, 3000]\n",
    "n_mt_per_condition = 5\n",
    "\n",
    "n_pf = 13\n",
    "mt_length_nm = 6000  # nm\n",
    "\n",
    "# Set parameters for the image generation.\n",
    "parameters = {}\n",
    "parameters['labeling_ratio'] = 0.1  # from 0 to 1\n",
    "\n",
    "parameters['pixel_size'] = 110  # nm/pixel\n",
    "parameters['x_offset'] = 1500  # nm\n",
    "parameters['y_offset'] = 1500  # nm\n",
    "\n",
    "parameters['psf_size'] = 135  # nm\n",
    "\n",
    "parameters['signal_mean'] = 700\n",
    "parameters['signal_std'] = 100\n",
    "parameters['bg_mean'] = 500\n",
    "parameters['bg_std'] = 24\n",
    "parameters['noise_factor'] = 1\n",
    "\n",
    "parameters['snr_line_width'] = 3  # pixel\n",
    "\n",
    "for taper_length in tqdm.tqdm_notebook(taper_lengths, total=len(taper_lengths), leave=False):\n",
    "    \n",
    "    current_dir = data_dir / f'taper_length_nm_{taper_length:04d}'\n",
    "    current_dir.mkdir(parents=True, exist_ok=True)\n",
    "    \n",
    "    # Generate the dimers\n",
    "    dimers = anamic.simulator.dimers_builder(n_pf, mt_length_nm, taper_length)\n",
    "    \n",
    "    # Create the simulator object\n",
    "    ms = anamic.simulator.MicrotubuleSimulator(dimers)\n",
    "    \n",
    "    # Update the parameters\n",
    "    ms.parameters.update(parameters)\n",
    "    \n",
    "    for i in tqdm.tqdm_notebook(range(n_mt_per_condition), leave=False):\n",
    "        \n",
    "        basename = f'microtubule_{i:04d}'\n",
    "        \n",
    "        # Build a single microtubule image\n",
    "        ms.build_all(apply_random_z_rotation=True, show_progress=False)\n",
    "        \n",
    "        # Save image, parameters and dimer positions.\n",
    "        ms.save_positions(current_dir / (basename + \".csv\"))\n",
    "        ms.save_parameters(current_dir / (basename + \".json\"))\n",
    "        ms.save_image(current_dir / (basename + \".tif\"))"
   ]
  },
  {
   "cell_type": "code",
   "execution_count": null,
   "metadata": {},
   "outputs": [],
   "source": []
  }
 ],
 "metadata": {
  "kernelspec": {
   "display_name": "Python [conda env:ws]",
   "language": "python",
   "name": "conda-env-ws-py"
  },
  "language_info": {
   "codemirror_mode": {
    "name": "ipython",
    "version": 3
   },
   "file_extension": ".py",
   "mimetype": "text/x-python",
   "name": "python",
   "nbconvert_exporter": "python",
   "pygments_lexer": "ipython3",
   "version": "3.7.0"
  }
 },
 "nbformat": 4,
 "nbformat_minor": 2
}
