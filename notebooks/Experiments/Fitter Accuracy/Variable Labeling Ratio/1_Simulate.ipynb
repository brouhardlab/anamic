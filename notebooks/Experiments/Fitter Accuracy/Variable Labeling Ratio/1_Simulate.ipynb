{
 "cells": [
  {
   "cell_type": "markdown",
   "metadata": {},
   "source": [
    "## Variable Labeling Ratio with blunt tip."
   ]
  },
  {
   "cell_type": "code",
   "execution_count": 1,
   "metadata": {},
   "outputs": [],
   "source": [
    "%matplotlib inline\n",
    "\n",
    "from pathlib import Path\n",
    "import sys\n",
    "sys.path.append(\"../../../../\")\n",
    "\n",
    "import anamic\n",
    "\n",
    "import numpy as np\n",
    "import matplotlib.pyplot as plt\n",
    "import tqdm\n",
    "from joblib import Parallel, delayed\n",
    "\n",
    "data_dir = Path('/home/hadim/Drive/Data/Postdoc/Fake Microtubules/anamic/accuracy')\n",
    "data_dir.mkdir(parents=True, exist_ok=True)\n",
    "\n",
    "# Consider moving this to `anamic`.\n",
    "def worker(i_mt, basename, variable_parameter_name,\n",
    "           variable_parameter, current_dir,\n",
    "           mt_args, image_args):\n",
    "    \n",
    "    image_args[variable_parameter_name] = variable_parameter\n",
    "    \n",
    "    # Generate the dimers\n",
    "    dimers = anamic.simulator.dimers_builder(**mt_args)\n",
    "    \n",
    "    # Create the simulator object\n",
    "    ms = anamic.simulator.MicrotubuleSimulator(dimers)\n",
    "    \n",
    "    # Update the parameters\n",
    "    ms.parameters.update(image_args)\n",
    "        \n",
    "    # Build a single microtubule image\n",
    "    ms.build_all(apply_random_z_rotation=True, show_progress=False)\n",
    "    \n",
    "    # Round image\n",
    "    ms.image = np.round(ms.image)\n",
    "    ms.image = ms.image.astype('uint16')\n",
    "    \n",
    "    # Save image, parameters and dimer positions.\n",
    "    ms.save_positions(current_dir / (basename + \".csv\"))\n",
    "    ms.save_parameters(current_dir / (basename + \".json\"))\n",
    "    ms.save_image(current_dir / (basename + \".tif\"))\n",
    "    \n",
    "    return ms"
   ]
  },
  {
   "cell_type": "code",
   "execution_count": 2,
   "metadata": {},
   "outputs": [],
   "source": [
    "experiment_name = 'labeling_ratio_with_blunt_tip_small'\n",
    "\n",
    "variable_parameter_name = 'labeling_ratio'\n",
    "variable_parameters = [0.1, 0.4, 0.7, 1.0]\n",
    "\n",
    "experiment_dir = data_dir / experiment_name\n",
    "experiment_dir.mkdir(parents=True, exist_ok=True)\n",
    "\n",
    "n_mt_per_condition = 3\n",
    "\n",
    "# Set parameters for the MT simulation\n",
    "mt_args = {}\n",
    "mt_args['n_pf'] = 13\n",
    "mt_args['mt_length_nm'] = 2000  # nm\n",
    "mt_args['taper_length_nm'] = 0  # nm\n",
    "\n",
    "# Set parameters for the image generation.\n",
    "image_args = {}\n",
    "image_args['labeling_ratio'] = 0.1  # from 0 to 1\n",
    "\n",
    "image_args['pixel_size'] = 110  # nm/pixel\n",
    "image_args['x_offset'] = 4500  # nm\n",
    "image_args['y_offset'] = 4500  # nm\n",
    "\n",
    "image_args['psf_size'] = 130  # nm\n",
    "image_args['signal_mean'] = 700\n",
    "image_args['signal_std'] = 100\n",
    "image_args['bg_mean'] = 500\n",
    "image_args['bg_std'] = 24\n",
    "image_args['noise_factor'] = 1.2\n",
    "\n",
    "# Generate the workers arguments\n",
    "worker_args = []\n",
    "for variable_parameter in variable_parameters:\n",
    "    current_dir = experiment_dir / f'{variable_parameter_name}-{variable_parameter:.1f}'\n",
    "    current_dir.mkdir(parents=True, exist_ok=True)\n",
    "    for i in range(n_mt_per_condition):\n",
    "        worker_arg = {}\n",
    "        worker_arg['i_mt'] = i\n",
    "        worker_arg['basename'] = f'microtubule_{i:04d}'\n",
    "        worker_arg['variable_parameter_name'] = variable_parameter_name\n",
    "        worker_arg['variable_parameter'] = variable_parameter\n",
    "        worker_arg['current_dir'] = current_dir\n",
    "        worker_arg['mt_args'] = mt_args.copy()\n",
    "        worker_arg['image_args'] = image_args.copy()\n",
    "        worker_args.append(worker_arg)"
   ]
  },
  {
   "cell_type": "code",
   "execution_count": 5,
   "metadata": {},
   "outputs": [
    {
     "data": {
      "application/vnd.jupyter.widget-view+json": {
       "model_id": "eabe261dc507466c972bf9fe1264099c",
       "version_major": 2,
       "version_minor": 0
      },
      "text/plain": [
       "HBox(children=(IntProgress(value=0, max=12), HTML(value='')))"
      ]
     },
     "metadata": {},
     "output_type": "display_data"
    },
    {
     "name": "stdout",
     "output_type": "stream",
     "text": [
      "\n"
     ]
    },
    {
     "data": {
      "text/plain": [
       "[<anamic.simulator.mt_simulator.MicrotubuleSimulator at 0x7fee1dbc05f8>,\n",
       " <anamic.simulator.mt_simulator.MicrotubuleSimulator at 0x7fee1dbc03c8>,\n",
       " <anamic.simulator.mt_simulator.MicrotubuleSimulator at 0x7fee1dbc04a8>,\n",
       " <anamic.simulator.mt_simulator.MicrotubuleSimulator at 0x7fee1dbc0588>,\n",
       " <anamic.simulator.mt_simulator.MicrotubuleSimulator at 0x7fee1dc1dac8>,\n",
       " <anamic.simulator.mt_simulator.MicrotubuleSimulator at 0x7fee1dbb83c8>,\n",
       " <anamic.simulator.mt_simulator.MicrotubuleSimulator at 0x7fee1dbc05c0>,\n",
       " <anamic.simulator.mt_simulator.MicrotubuleSimulator at 0x7fee1dbb8d68>,\n",
       " <anamic.simulator.mt_simulator.MicrotubuleSimulator at 0x7fee1dbcceb8>,\n",
       " <anamic.simulator.mt_simulator.MicrotubuleSimulator at 0x7fee1dc1d5c0>,\n",
       " <anamic.simulator.mt_simulator.MicrotubuleSimulator at 0x7fee1dbb8e10>,\n",
       " <anamic.simulator.mt_simulator.MicrotubuleSimulator at 0x7fee1dbccac8>]"
      ]
     },
     "execution_count": 5,
     "metadata": {},
     "output_type": "execute_result"
    }
   ],
   "source": [
    "anamic.utils.parallelized(worker, worker_args, args_type='dict', progress_bar=True, n_jobs=-1)"
   ]
  },
  {
   "cell_type": "code",
   "execution_count": null,
   "metadata": {},
   "outputs": [],
   "source": []
  }
 ],
 "metadata": {
  "kernelspec": {
   "display_name": "Python [conda env:ws]",
   "language": "python",
   "name": "conda-env-ws-py"
  },
  "language_info": {
   "codemirror_mode": {
    "name": "ipython",
    "version": 3
   },
   "file_extension": ".py",
   "mimetype": "text/x-python",
   "name": "python",
   "nbconvert_exporter": "python",
   "pygments_lexer": "ipython3",
   "version": "3.6.7"
  }
 },
 "nbformat": 4,
 "nbformat_minor": 4
}
