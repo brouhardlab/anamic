{
 "cells": [
  {
   "cell_type": "markdown",
   "metadata": {},
   "source": [
    "## Variable Labeling Ratio with blunt tip."
   ]
  },
  {
   "cell_type": "code",
   "execution_count": 1,
   "metadata": {},
   "outputs": [],
   "source": [
    "from pathlib import Path\n",
    "import json\n",
    "import sys\n",
    "sys.path.append(\"../../../../\")\n",
    "\n",
    "import anamic\n",
    "\n",
    "import numpy as np\n",
    "import pandas as pd\n",
    "import matplotlib.pyplot as plt\n",
    "import tifffile\n",
    "from tqdm.auto import tqdm\n",
    "\n",
    "data_dir = Path('/home/hadim/Drive/Data/Postdoc/Fake Microtubules/anamic/accuracy')\n",
    "\n",
    "experiment_name = 'labeling_ratio_with_blunt_tip'\n",
    "experiment_dir = data_dir / experiment_name"
   ]
  },
  {
   "cell_type": "code",
   "execution_count": 2,
   "metadata": {},
   "outputs": [
    {
     "data": {
      "application/vnd.jupyter.widget-view+json": {
       "model_id": "dc784c2db01f4172a8dc8fd942a8b049",
       "version_major": 2,
       "version_minor": 0
      },
      "text/plain": [
       "HBox(children=(IntProgress(value=0, max=10), HTML(value='')))"
      ]
     },
     "metadata": {},
     "output_type": "display_data"
    },
    {
     "data": {
      "application/vnd.jupyter.widget-view+json": {
       "model_id": "",
       "version_major": 2,
       "version_minor": 0
      },
      "text/plain": [
       "HBox(children=(IntProgress(value=0), HTML(value='')))"
      ]
     },
     "metadata": {},
     "output_type": "display_data"
    },
    {
     "name": "stderr",
     "output_type": "stream",
     "text": [
      "/home/hadim/Drive/Documents/Code/Postdoc/anamic/anamic/fitter/_utils.py:180: RuntimeWarning: invalid value encountered in less\n",
      "  fitted_line = fitted_line[errors < mu_stderr_threshold]\n"
     ]
    },
    {
     "data": {
      "application/vnd.jupyter.widget-view+json": {
       "model_id": "",
       "version_major": 2,
       "version_minor": 0
      },
      "text/plain": [
       "HBox(children=(IntProgress(value=0), HTML(value='')))"
      ]
     },
     "metadata": {},
     "output_type": "display_data"
    },
    {
     "data": {
      "application/vnd.jupyter.widget-view+json": {
       "model_id": "",
       "version_major": 2,
       "version_minor": 0
      },
      "text/plain": [
       "HBox(children=(IntProgress(value=0), HTML(value='')))"
      ]
     },
     "metadata": {},
     "output_type": "display_data"
    },
    {
     "data": {
      "application/vnd.jupyter.widget-view+json": {
       "model_id": "",
       "version_major": 2,
       "version_minor": 0
      },
      "text/plain": [
       "HBox(children=(IntProgress(value=0), HTML(value='')))"
      ]
     },
     "metadata": {},
     "output_type": "display_data"
    },
    {
     "data": {
      "application/vnd.jupyter.widget-view+json": {
       "model_id": "",
       "version_major": 2,
       "version_minor": 0
      },
      "text/plain": [
       "HBox(children=(IntProgress(value=0), HTML(value='')))"
      ]
     },
     "metadata": {},
     "output_type": "display_data"
    },
    {
     "data": {
      "application/vnd.jupyter.widget-view+json": {
       "model_id": "",
       "version_major": 2,
       "version_minor": 0
      },
      "text/plain": [
       "HBox(children=(IntProgress(value=0), HTML(value='')))"
      ]
     },
     "metadata": {},
     "output_type": "display_data"
    },
    {
     "data": {
      "application/vnd.jupyter.widget-view+json": {
       "model_id": "",
       "version_major": 2,
       "version_minor": 0
      },
      "text/plain": [
       "HBox(children=(IntProgress(value=0), HTML(value='')))"
      ]
     },
     "metadata": {},
     "output_type": "display_data"
    },
    {
     "data": {
      "application/vnd.jupyter.widget-view+json": {
       "model_id": "",
       "version_major": 2,
       "version_minor": 0
      },
      "text/plain": [
       "HBox(children=(IntProgress(value=0), HTML(value='')))"
      ]
     },
     "metadata": {},
     "output_type": "display_data"
    },
    {
     "data": {
      "application/vnd.jupyter.widget-view+json": {
       "model_id": "",
       "version_major": 2,
       "version_minor": 0
      },
      "text/plain": [
       "HBox(children=(IntProgress(value=0), HTML(value='')))"
      ]
     },
     "metadata": {},
     "output_type": "display_data"
    },
    {
     "data": {
      "application/vnd.jupyter.widget-view+json": {
       "model_id": "",
       "version_major": 2,
       "version_minor": 0
      },
      "text/plain": [
       "HBox(children=(IntProgress(value=0), HTML(value='')))"
      ]
     },
     "metadata": {},
     "output_type": "display_data"
    },
    {
     "name": "stdout",
     "output_type": "stream",
     "text": [
      "\n"
     ]
    }
   ],
   "source": [
    "# Get variable parameters from directory names\n",
    "dirpaths = list(filter(lambda d: d.is_dir(), experiment_dir.iterdir()))\n",
    "variable_parameters = [float(d.name.split('-')[1]) for d in dirpaths]\n",
    "variable_parameter_name = dirpaths[0].name.split('-')[0]\n",
    "\n",
    "data = []\n",
    "for variable_parameter, dirpath in tqdm(zip(variable_parameters, dirpaths), total=len(dirpaths)):\n",
    "\n",
    "    fnames = list(dirpath.glob('*.tif'))\n",
    "    for image_path in tqdm(fnames, total=len(fnames), leave=False):\n",
    "        \n",
    "        # Open the image\n",
    "        image = tifffile.imread(str(image_path))\n",
    "\n",
    "        # Load metadata\n",
    "        metadata = json.load(open(image_path.with_suffix('.json')))\n",
    "\n",
    "        # Get microtubule tip coordinates\n",
    "        tip_start = np.array(metadata['tip_start'])\n",
    "        tip_end = np.array(metadata['tip_end'])\n",
    "        \n",
    "        args = {}\n",
    "\n",
    "        args['get_thick_line_args'] = {}\n",
    "        args['get_thick_line_args']['length_spacing'] = 5  # pixel\n",
    "        args['get_thick_line_args']['line_thickness'] = 3000 / metadata['pixel_size']  # pixel\n",
    "\n",
    "        args['perpendicular_line_fit_args'] = {}\n",
    "        args['perpendicular_line_fit_args']['length_spacing'] = 0.1  # pixel\n",
    "        args['perpendicular_line_fit_args']['fit_threshold'] = 0.15\n",
    "        args['perpendicular_line_fit_args']['continuous_discard'] = False\n",
    "\n",
    "        args['offset_start'] = 4000 / metadata['pixel_size']  # pixel\n",
    "        args['offset_end'] = 2000 / metadata['pixel_size']  # pixel\n",
    "\n",
    "        args['tip_fit_args'] = {}\n",
    "        args['tip_fit_args']['length_spacing'] = 0.1  # pixel\n",
    "        args['tip_fit_args']['line_thickness'] = 400 / metadata[\"pixel_size\"]  # pixel\n",
    "        args['tip_fit_args']['width_spacing'] = 0.1  # pixel\n",
    "        \n",
    "        results = anamic.fitter.microtubule_tip_fitter(tip_start, tip_end, image, **args)\n",
    "        line_fit_tips, x_profile, y_profile, fit_result, fit_func = results\n",
    "        fit_values = fit_result.values\n",
    "        \n",
    "        # Compute x and y tip coordinates.\n",
    "        mu = fit_values['mu']\n",
    "        vec = line_fit_tips[1] - line_fit_tips[0]\n",
    "        x, y = anamic.geometry.get_point_from_vector(vec, line_fit_tips[0], mu)\n",
    "\n",
    "        # Save the data\n",
    "        datum = {}\n",
    "        datum['parameter'] = variable_parameter\n",
    "        datum['image_path'] = image_path.relative_to(experiment_dir)\n",
    "        datum['x'] = x * metadata['pixel_size']\n",
    "        datum['y'] = y * metadata['pixel_size']\n",
    "        datum['tip_start_x'] = tip_start[0] * metadata['pixel_size']\n",
    "        datum['tip_start_y'] = tip_start[1] * metadata['pixel_size']\n",
    "        datum['tip_end_x'] = tip_end[0] * metadata['pixel_size']\n",
    "        datum['tip_end_y'] = tip_end[1] * metadata['pixel_size']\n",
    "        datum['sigma'] = fit_values['sigma'] * metadata['pixel_size']\n",
    "        data.append(datum)\n",
    "        \n",
    "data = pd.DataFrame(data)\n",
    "data.to_csv(experiment_dir / \"analysis.csv\", index=False)"
   ]
  },
  {
   "cell_type": "code",
   "execution_count": 13,
   "metadata": {},
   "outputs": [
    {
     "data": {
      "text/plain": [
       "{'3d_z_rotation_angle': 209.36668253072284,\n",
       " 'bg_mean': 500,\n",
       " 'bg_std': 24,\n",
       " 'date': '2019-10-15T14:47:47.516074',\n",
       " 'labeling_ratio': 1.0,\n",
       " 'n_pf': 13,\n",
       " 'noise_factor': 1.2,\n",
       " 'pixel_size': 110,\n",
       " 'projected_rotation_angle': -28.666529548141472,\n",
       " 'psf_size': 130,\n",
       " 'row': 375,\n",
       " 'sigma_pixel': 1.1818181818181819,\n",
       " 'signal_mean': 700,\n",
       " 'signal_std': 100,\n",
       " 'snr': 3.0322641234762617,\n",
       " 'snr_line_width': 3,\n",
       " 'tip_end': [53.69230769230769, 64.0],\n",
       " 'tip_start': [40.46153846153846, 40.38461538461539],\n",
       " 'x_offset': 4500,\n",
       " 'y_offset': 4500}"
      ]
     },
     "execution_count": 13,
     "metadata": {},
     "output_type": "execute_result"
    }
   ],
   "source": [
    "metadata"
   ]
  }
 ],
 "metadata": {
  "kernelspec": {
   "display_name": "Python [conda env:ws]",
   "language": "python",
   "name": "conda-env-ws-py"
  },
  "language_info": {
   "codemirror_mode": {
    "name": "ipython",
    "version": 3
   },
   "file_extension": ".py",
   "mimetype": "text/x-python",
   "name": "python",
   "nbconvert_exporter": "python",
   "pygments_lexer": "ipython3",
   "version": "3.6.7"
  }
 },
 "nbformat": 4,
 "nbformat_minor": 4
}
