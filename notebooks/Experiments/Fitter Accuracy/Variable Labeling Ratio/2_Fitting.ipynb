{
 "cells": [
  {
   "cell_type": "markdown",
   "metadata": {},
   "source": [
    "## Variable Labeling Ratio with blunt tip."
   ]
  },
  {
   "cell_type": "code",
   "execution_count": 1,
   "metadata": {},
   "outputs": [],
   "source": [
    "from pathlib import Path\n",
    "import json\n",
    "import sys\n",
    "sys.path.append(\"../../../../\")\n",
    "\n",
    "import anamic\n",
    "\n",
    "import numpy as np\n",
    "import pandas as pd\n",
    "import matplotlib.pyplot as plt\n",
    "import tifffile\n",
    "from tqdm.auto import tqdm\n",
    "\n",
    "data_dir = Path('/home/hadim/Drive/Data/Postdoc/Fake Microtubules/anamic/accuracy')\n",
    "data_dir = Path('/home/hadim/local/Data/Postdoc/Fake Microtubules/anamic/accuracy')\n",
    "\n",
    "experiment_name = 'labeling_ratio_with_blunt_tip_large'\n",
    "experiment_dir = data_dir / experiment_name"
   ]
  },
  {
   "cell_type": "code",
   "execution_count": 2,
   "metadata": {},
   "outputs": [],
   "source": [
    "# Get variable parameters from directory names\n",
    "dirpaths = list(filter(lambda d: d.is_dir(), experiment_dir.iterdir()))\n",
    "variable_parameters = [float(d.name.split('-')[1]) for d in dirpaths]\n",
    "variable_parameter_name = dirpaths[0].name.split('-')[0]\n",
    "\n",
    "# Define the worker function\n",
    "def worker(image_path, variable_parameter):\n",
    "    # Open the image\n",
    "    image = tifffile.imread(str(image_path))\n",
    "\n",
    "    # Load metadata\n",
    "    metadata = json.load(open(image_path.with_suffix('.json')))\n",
    "\n",
    "    # Get microtubule tip coordinates\n",
    "    tip_start = np.array(metadata['tip_start'])\n",
    "    tip_end = np.array(metadata['tip_end'])\n",
    "\n",
    "    args = {}\n",
    "\n",
    "    args['get_thick_line_args'] = {}\n",
    "    args['get_thick_line_args']['length_spacing'] = 5  # pixel\n",
    "    args['get_thick_line_args']['line_thickness'] = 3000 / metadata['pixel_size']  # pixel\n",
    "\n",
    "    args['perpendicular_line_fit_args'] = {}\n",
    "    args['perpendicular_line_fit_args']['length_spacing'] = 0.1  # pixel\n",
    "    args['perpendicular_line_fit_args']['fit_threshold'] = 0.15\n",
    "    args['perpendicular_line_fit_args']['continuous_discard'] = False\n",
    "\n",
    "    args['offset_start'] = 4000 / metadata['pixel_size']  # pixel\n",
    "    args['offset_end'] = 2000 / metadata['pixel_size']  # pixel\n",
    "\n",
    "    args['tip_fit_args'] = {}\n",
    "    args['tip_fit_args']['length_spacing'] = 0.1  # pixel\n",
    "    args['tip_fit_args']['line_thickness'] = 400 / metadata[\"pixel_size\"]  # pixel\n",
    "    args['tip_fit_args']['width_spacing'] = 0.1  # pixel\n",
    "\n",
    "    results = anamic.fitter.microtubule_tip_fitter(tip_start, tip_end, image, **args)\n",
    "    line_fit_tips, x_profile, y_profile, fit_result, fit_func = results\n",
    "    fit_values = fit_result.values\n",
    "\n",
    "    # Compute x and y tip coordinates.\n",
    "    mu = fit_values['mu']\n",
    "    vec = line_fit_tips[1] - line_fit_tips[0]\n",
    "    x, y = anamic.geometry.get_point_from_vector(vec, line_fit_tips[0], mu)\n",
    "\n",
    "    # Save the data\n",
    "    datum = {}\n",
    "    datum['parameter'] = variable_parameter\n",
    "    datum['image_path'] = image_path.relative_to(experiment_dir)\n",
    "    datum['x'] = x * metadata['pixel_size']\n",
    "    datum['y'] = y * metadata['pixel_size']\n",
    "    datum['tip_start_x'] = tip_start[0] * metadata['pixel_size']\n",
    "    datum['tip_start_y'] = tip_start[1] * metadata['pixel_size']\n",
    "    datum['tip_end_x'] = tip_end[0] * metadata['pixel_size']\n",
    "    datum['tip_end_y'] = tip_end[1] * metadata['pixel_size']\n",
    "    datum['sigma'] = fit_values['sigma'] * metadata['pixel_size']\n",
    "    return datum\n",
    "\n",
    "# Generate the workers arguments\n",
    "worker_args = []\n",
    "for variable_parameter, dirpath in zip(variable_parameters, dirpaths):\n",
    "    fnames = list(dirpath.glob('*.tif'))\n",
    "    for image_path in fnames:\n",
    "        worker_arg = {}\n",
    "        worker_arg['image_path'] = image_path\n",
    "        worker_arg['variable_parameter'] = variable_parameter\n",
    "        worker_args.append(worker_arg)"
   ]
  },
  {
   "cell_type": "code",
   "execution_count": 3,
   "metadata": {},
   "outputs": [
    {
     "data": {
      "application/vnd.jupyter.widget-view+json": {
       "model_id": "d3abcba727fa41a4aaf0266650f35375",
       "version_major": 2,
       "version_minor": 0
      },
      "text/plain": [
       "HBox(children=(IntProgress(value=0, max=10000), HTML(value='')))"
      ]
     },
     "metadata": {},
     "output_type": "display_data"
    },
    {
     "name": "stdout",
     "output_type": "stream",
     "text": [
      "\n"
     ]
    }
   ],
   "source": [
    "data = anamic.utils.parallelized(worker, worker_args, args_type='dict', progress_bar=True, n_jobs=-1)\n",
    "        \n",
    "data = pd.DataFrame(data)\n",
    "data.to_csv(experiment_dir / \"analysis.csv\", index=False)"
   ]
  },
  {
   "cell_type": "code",
   "execution_count": null,
   "metadata": {},
   "outputs": [],
   "source": []
  }
 ],
 "metadata": {
  "kernelspec": {
   "display_name": "Python [conda env:ws]",
   "language": "python",
   "name": "conda-env-ws-py"
  },
  "language_info": {
   "codemirror_mode": {
    "name": "ipython",
    "version": 3
   },
   "file_extension": ".py",
   "mimetype": "text/x-python",
   "name": "python",
   "nbconvert_exporter": "python",
   "pygments_lexer": "ipython3",
   "version": "3.6.7"
  }
 },
 "nbformat": 4,
 "nbformat_minor": 4
}
