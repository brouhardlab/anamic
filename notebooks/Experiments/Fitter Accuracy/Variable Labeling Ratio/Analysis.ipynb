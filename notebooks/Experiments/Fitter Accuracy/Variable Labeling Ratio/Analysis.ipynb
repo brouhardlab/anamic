{
 "cells": [
  {
   "cell_type": "markdown",
   "metadata": {},
   "source": [
    "## Variable Labeling Ratio with blunt tip."
   ]
  },
  {
   "cell_type": "code",
   "execution_count": 1,
   "metadata": {},
   "outputs": [
    {
     "name": "stderr",
     "output_type": "stream",
     "text": [
      "../../../../anamic/transformations.py:1916: UserWarning: No module named 'anamic._transformations'\n",
      "  warnings.warn(str(err))\n"
     ]
    }
   ],
   "source": [
    "%load_ext autoreload\n",
    "%autoreload 2\n",
    "%matplotlib inline\n",
    "\n",
    "from pathlib import Path\n",
    "import json\n",
    "import sys\n",
    "sys.path.append(\"../../../../\")\n",
    "\n",
    "import anamic\n",
    "\n",
    "import numpy as np\n",
    "import pandas as pd\n",
    "import matplotlib.pyplot as plt\n",
    "import tifffile\n",
    "import tqdm\n",
    "\n",
    "data_dir = Path('/home/hadim/Drive/Data/Fake Microtubules/anamic/accuracy/')\n",
    "data_dir.mkdir(exist_ok=True)\n",
    "\n",
    "experiment_name = 'labeling_ratio_with_blunt_tip'\n",
    "experiment_dir = data_dir / experiment_name"
   ]
  },
  {
   "cell_type": "code",
   "execution_count": 2,
   "metadata": {},
   "outputs": [
    {
     "data": {
      "application/vnd.jupyter.widget-view+json": {
       "model_id": "07edc6e499814efc81e69254320caa4e",
       "version_major": 2,
       "version_minor": 0
      },
      "text/plain": [
       "HBox(children=(IntProgress(value=0, max=4), HTML(value='')))"
      ]
     },
     "metadata": {},
     "output_type": "display_data"
    },
    {
     "data": {
      "application/vnd.jupyter.widget-view+json": {
       "model_id": "",
       "version_major": 2,
       "version_minor": 0
      },
      "text/plain": [
       "HBox(children=(IntProgress(value=0, max=5), HTML(value='')))"
      ]
     },
     "metadata": {},
     "output_type": "display_data"
    },
    {
     "data": {
      "application/vnd.jupyter.widget-view+json": {
       "model_id": "",
       "version_major": 2,
       "version_minor": 0
      },
      "text/plain": [
       "HBox(children=(IntProgress(value=0, max=5), HTML(value='')))"
      ]
     },
     "metadata": {},
     "output_type": "display_data"
    },
    {
     "data": {
      "application/vnd.jupyter.widget-view+json": {
       "model_id": "",
       "version_major": 2,
       "version_minor": 0
      },
      "text/plain": [
       "HBox(children=(IntProgress(value=0, max=5), HTML(value='')))"
      ]
     },
     "metadata": {},
     "output_type": "display_data"
    },
    {
     "data": {
      "application/vnd.jupyter.widget-view+json": {
       "model_id": "",
       "version_major": 2,
       "version_minor": 0
      },
      "text/plain": [
       "HBox(children=(IntProgress(value=0, max=5), HTML(value='')))"
      ]
     },
     "metadata": {},
     "output_type": "display_data"
    },
    {
     "name": "stdout",
     "output_type": "stream",
     "text": [
      "\n"
     ]
    }
   ],
   "source": [
    "# Get variable parameters from directory names\n",
    "dirpaths = list(filter(lambda d: d.is_dir(), experiment_dir.iterdir()))\n",
    "variable_parameters = [float(d.name.split('-')[1]) for d in dirpaths]\n",
    "variable_parameter_name = dirpaths[0].name.split('-')[0]\n",
    "\n",
    "data = []\n",
    "for variable_parameter, dirpath in tqdm.tqdm_notebook(zip(variable_parameters, dirpaths), total=len(dirpaths)):\n",
    "\n",
    "    fnames = list(dirpath.glob('*.tif'))\n",
    "    for image_path in tqdm.tqdm_notebook(fnames, total=len(fnames), leave=False):\n",
    "        \n",
    "        # Open the image\n",
    "        image = tifffile.imread(str(image_path))\n",
    "\n",
    "        # Load metadata\n",
    "        metadata = json.load(open(image_path.with_suffix('.json')))\n",
    "\n",
    "        # Get microtubule tip coordinates\n",
    "        tip_start = np.array(metadata['tip_start'])\n",
    "        tip_end = np.array(metadata['tip_end'])\n",
    "        \n",
    "        args = {}\n",
    "\n",
    "        args['get_thick_line_args'] = {}\n",
    "        args['get_thick_line_args']['length_spacing'] = 5  # pixel\n",
    "        args['get_thick_line_args']['line_thickness'] = 3000 / metadata['pixel_size']  # pixel\n",
    "\n",
    "        args['perpendicular_line_fit_args'] = {}\n",
    "        args['perpendicular_line_fit_args']['length_spacing'] = 0.1  # pixel\n",
    "        args['perpendicular_line_fit_args']['fit_threshold'] = 0.15\n",
    "        args['perpendicular_line_fit_args']['continuous_discard'] = False\n",
    "\n",
    "        args['offset_start'] = 4000 / metadata['pixel_size']  # pixel\n",
    "        args['offset_end'] = 2000 / metadata['pixel_size']  # pixel\n",
    "\n",
    "        args['tip_fit_args'] = {}\n",
    "        args['tip_fit_args']['length_spacing'] = 0.1  # pixel\n",
    "        args['tip_fit_args']['line_thickness'] = 400 / metadata[\"pixel_size\"]  # pixel\n",
    "        args['tip_fit_args']['width_spacing'] = 0.1  # pixel\n",
    "        \n",
    "        results = anamic.fitter.microtubule_tip_fitter(tip_start, tip_end, image, **args)\n",
    "        line_fit_tips, x_profile, y_profile, fit_result, fit_func = results\n",
    "        fit_values = fit_result.values"
   ]
  },
  {
   "cell_type": "code",
   "execution_count": null,
   "metadata": {},
   "outputs": [],
   "source": []
  }
 ],
 "metadata": {
  "kernelspec": {
   "display_name": "Python [conda env:ws]",
   "language": "python",
   "name": "conda-env-ws-py"
  },
  "language_info": {
   "codemirror_mode": {
    "name": "ipython",
    "version": 3
   },
   "file_extension": ".py",
   "mimetype": "text/x-python",
   "name": "python",
   "nbconvert_exporter": "python",
   "pygments_lexer": "ipython3",
   "version": "3.6.7"
  }
 },
 "nbformat": 4,
 "nbformat_minor": 2
}
