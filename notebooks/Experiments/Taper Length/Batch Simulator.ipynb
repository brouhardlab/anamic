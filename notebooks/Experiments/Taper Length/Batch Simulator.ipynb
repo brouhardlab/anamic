{
 "cells": [
  {
   "cell_type": "code",
   "execution_count": 2,
   "metadata": {},
   "outputs": [
    {
     "name": "stderr",
     "output_type": "stream",
     "text": [
      "/home/hadim/local/conda/envs/ws/lib/python3.6/importlib/_bootstrap.py:219: RuntimeWarning: numpy.dtype size changed, may indicate binary incompatibility. Expected 96, got 88\n",
      "  return f(*args, **kwds)\n",
      "../../../anamic/transformations.py:1916: UserWarning: No module named 'anamic._transformations'\n",
      "  warnings.warn(str(err))\n"
     ]
    }
   ],
   "source": [
    "%matplotlib inline\n",
    "\n",
    "from pathlib import Path\n",
    "import sys\n",
    "sys.path.append(\"../../../\")\n",
    "\n",
    "import anamic\n",
    "\n",
    "import numpy as np\n",
    "import matplotlib.pyplot as plt\n",
    "import tqdm\n",
    "from joblib import Parallel, delayed\n",
    "\n",
    "data_dir = Path('/home/hadim/Drive/Data/Fake Microtubules/anamic/taper_length')\n",
    "data_dir.mkdir(parents=True, exist_ok=True)"
   ]
  },
  {
   "cell_type": "code",
   "execution_count": 5,
   "metadata": {},
   "outputs": [
    {
     "data": {
      "application/vnd.jupyter.widget-view+json": {
       "model_id": "71ddfabfa1fd4edc8465ff05c6f94a25",
       "version_major": 2,
       "version_minor": 0
      },
      "text/plain": [
       "HBox(children=(IntProgress(value=0, max=350), HTML(value='')))"
      ]
     },
     "metadata": {},
     "output_type": "display_data"
    }
   ],
   "source": [
    "taper_lengths = [0, 500, 1000, 1500, 2000, 2500, 3000]\n",
    "n_mt_per_condition = 50\n",
    "\n",
    "# We choose the pf number from the described distribution\n",
    "# in Chaaban et al., 2018, Fig. 4B.\n",
    "all_n_pf = [11, 12, 13, 14, 15]\n",
    "n_pf_proba = [0.05, 0.05, 0.3, 0.1, 0.5]\n",
    "\n",
    "mt_length_nm = 6000  # nm\n",
    "\n",
    "# Set parameters for the image generation.\n",
    "parameters = {}\n",
    "parameters['labeling_ratio'] = 0.1  # from 0 to 1\n",
    "\n",
    "parameters['pixel_size'] = 110  # nm/pixel\n",
    "parameters['x_offset'] = 4500  # nm\n",
    "parameters['y_offset'] = 4500  # nm\n",
    "\n",
    "parameters['psf_size'] = 130  # nm\n",
    "\n",
    "parameters['signal_mean'] = 700\n",
    "parameters['signal_std'] = 100\n",
    "parameters['bg_mean'] = 500\n",
    "parameters['bg_std'] = 24\n",
    "parameters['noise_factor'] = 1.2\n",
    "\n",
    "parameters['snr_line_width'] = 3  # pixel\n",
    "\n",
    "worker_args = []\n",
    "for taper_length in taper_lengths:\n",
    "    current_dir = data_dir / f'taper_length_nm-{taper_length:04d}'\n",
    "    current_dir.mkdir(parents=True, exist_ok=True)\n",
    "    for i in range(n_mt_per_condition):\n",
    "        basename = f'microtubule_{i:04d}'\n",
    "        worker_args.append({'taper_length': taper_length, 'i_mt': i,\n",
    "                            'current_dir': current_dir, 'basename': basename})\n",
    "        \n",
    "def worker(taper_length, i_mt, current_dir, basename):\n",
    "    \n",
    "    n_pf = np.random.choice(all_n_pf, 1, p=n_pf_proba)[0]\n",
    "    \n",
    "    # Generate the dimers\n",
    "    dimers = anamic.simulator.dimers_builder(n_pf, mt_length_nm, taper_length)\n",
    "    \n",
    "    # Create the simulator object\n",
    "    ms = anamic.simulator.MicrotubuleSimulator(dimers)\n",
    "    \n",
    "    # Update the parameters\n",
    "    ms.parameters.update(parameters)\n",
    "        \n",
    "    # Build a single microtubule image\n",
    "    ms.build_all(apply_random_z_rotation=True, show_progress=False)\n",
    "    \n",
    "    # Save image, parameters and dimer positions.\n",
    "    ms.save_positions(current_dir / (basename + \".csv\"))\n",
    "    ms.save_parameters(current_dir / (basename + \".json\"))\n",
    "    ms.save_image(current_dir / (basename + \".tif\"))\n",
    "\n",
    "executor_factory = anamic.utils.parallel_executor(use_bar='tqdm', n_jobs=-1)(total=len(worker_args))\n",
    "executor = executor_factory(delayed(worker)(**worker_arg) for worker_arg in worker_args)"
   ]
  },
  {
   "cell_type": "code",
   "execution_count": null,
   "metadata": {},
   "outputs": [],
   "source": []
  }
 ],
 "metadata": {
  "kernelspec": {
   "display_name": "Python [conda env:ws]",
   "language": "python",
   "name": "conda-env-ws-py"
  },
  "language_info": {
   "codemirror_mode": {
    "name": "ipython",
    "version": 3
   },
   "file_extension": ".py",
   "mimetype": "text/x-python",
   "name": "python",
   "nbconvert_exporter": "python",
   "pygments_lexer": "ipython3",
   "version": "3.6.6"
  }
 },
 "nbformat": 4,
 "nbformat_minor": 2
}
