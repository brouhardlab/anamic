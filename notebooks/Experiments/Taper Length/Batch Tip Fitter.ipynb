{
 "cells": [
  {
   "cell_type": "markdown",
   "metadata": {
    "toc-hr-collapsed": true
   },
   "source": [
    "# Microtubule Tip Fitter"
   ]
  },
  {
   "cell_type": "code",
   "execution_count": 2,
   "metadata": {},
   "outputs": [
    {
     "name": "stdout",
     "output_type": "stream",
     "text": [
      "The autoreload extension is already loaded. To reload it, use:\n",
      "  %reload_ext autoreload\n"
     ]
    }
   ],
   "source": [
    "%load_ext autoreload\n",
    "%autoreload 2\n",
    "%matplotlib inline\n",
    "\n",
    "from pathlib import Path\n",
    "import json\n",
    "import tqdm\n",
    "import tifffile\n",
    "\n",
    "import sys; sys.path.append(\"../../../\")\n",
    "import anamic\n",
    "\n",
    "import numpy as np\n",
    "import pandas as pd\n",
    "import matplotlib.pyplot as plt\n",
    "\n",
    "data_dir = Path('/home/hadim/Drive/Data/Fake Microtubules/anamic/taper_length')"
   ]
  },
  {
   "cell_type": "code",
   "execution_count": null,
   "metadata": {},
   "outputs": [
    {
     "data": {
      "application/vnd.jupyter.widget-view+json": {
       "model_id": "ef18a20cc9bd4300b532c42c8c5b9770",
       "version_major": 2,
       "version_minor": 0
      },
      "text/plain": [
       "HBox(children=(IntProgress(value=0, max=7), HTML(value='')))"
      ]
     },
     "metadata": {},
     "output_type": "display_data"
    },
    {
     "data": {
      "application/vnd.jupyter.widget-view+json": {
       "model_id": "13ec4366f0e145ddb67acbebe1378dc5",
       "version_major": 2,
       "version_minor": 0
      },
      "text/plain": [
       "HBox(children=(IntProgress(value=0, max=50), HTML(value='')))"
      ]
     },
     "metadata": {},
     "output_type": "display_data"
    }
   ],
   "source": [
    "condition_name = 'taper_length'\n",
    "conditions = []\n",
    "dirpaths = list(filter(lambda d: d.is_dir(), data_dir.iterdir()))\n",
    "conditions = [int(d.name.split('-')[1]) for d in dirpaths]\n",
    "\n",
    "data = []\n",
    "for condition, dirpath in tqdm.tqdm_notebook(zip(conditions, dirpaths), total=len(dirpaths)):\n",
    "\n",
    "    fnames = list(dirpath.glob('*.tif'))\n",
    "    for image_path in tqdm.tqdm_notebook(fnames, total=len(fnames), leave=False):\n",
    "        \n",
    "        # Open the image\n",
    "        image = tifffile.imread(str(image_path))\n",
    "\n",
    "        # Load metadata\n",
    "        metadata = json.load(open(image_path.with_suffix('.json')))\n",
    "\n",
    "        # Get microtubule tip coordinates\n",
    "        tip_start = np.array(metadata['tip_start'])\n",
    "        tip_end = np.array(metadata['tip_end'])\n",
    "        \n",
    "        args = {}\n",
    "\n",
    "        args['get_thick_line_args'] = {}\n",
    "        args['get_thick_line_args']['length_spacing'] = 5  # pixel\n",
    "        args['get_thick_line_args']['line_thickness'] = 3000 / metadata['pixel_size']  # pixel\n",
    "\n",
    "        args['perpendicular_line_fit_args'] = {}\n",
    "        args['perpendicular_line_fit_args']['length_spacing'] = 0.1  # pixel\n",
    "        args['perpendicular_line_fit_args']['fit_threshold'] = 0.15\n",
    "\n",
    "        args['offset_start'] = 4000 / metadata['pixel_size']  # pixel\n",
    "        args['offset_end'] = 2000 / metadata['pixel_size']  # pixel\n",
    "\n",
    "        args['tip_fit_args'] = {}\n",
    "        args['tip_fit_args']['length_spacing'] = 0.1  # pixel\n",
    "        args['tip_fit_args']['line_thickness'] = 400 / metadata[\"pixel_size\"]  # pixel\n",
    "        args['tip_fit_args']['width_spacing'] = 0.1  # pixel\n",
    "        \n",
    "        results = anamic.fitter.microtubule_tip_fitter(tip_start, tip_end, image, **args)\n",
    "        line_fit_tips, x_profile, y_profile, fit_values, fit_func = results\n",
    "    \n",
    "        datum = {}\n",
    "        datum['condition'] = condition\n",
    "        datum['image_path'] = image_path.relative_to(data_dir)\n",
    "        datum['fitting_arguments'] = str(args)\n",
    "        datum['fitted_sigma'] = fit_values['sigma']\n",
    "        datum['fitted_sigma_nm'] = fit_values['sigma'] * metadata[\"pixel_size\"] \n",
    "        \n",
    "        # Add some metadata to the result\n",
    "        datum['snr'] = metadata['snr']\n",
    "        datum['n_pf'] = metadata['n_pf']\n",
    "        datum['noise_factor'] = metadata['noise_factor']\n",
    "        datum['pixel_size'] = metadata[\"pixel_size\"] \n",
    "        \n",
    "        data.append(datum)\n",
    "    \n",
    "data = pd.DataFrame(data)\n",
    "data.to_csv(data_dir / \"results.csv\")"
   ]
  },
  {
   "cell_type": "code",
   "execution_count": null,
   "metadata": {},
   "outputs": [],
   "source": [
    "x_feature = 'condition'\n",
    "y_feature = 'fitted_sigma_nm'\n",
    "\n",
    "font_size = 34\n",
    "color = \"#2a77b4\"\n",
    "\n",
    "fig, ax = plt.subplots(figsize=(16, 12), constrained_layout=True)\n",
    "\n",
    "x = data[x_feature]\n",
    "y = data[y_feature]\n",
    "#ax.scatter(x, y, alpha=0.4, marker='x')\n",
    "\n",
    "gb = data.groupby(x_feature)\n",
    "average = gb.mean()\n",
    "\n",
    "x_average = average.index\n",
    "y_average = average[y_feature]\n",
    "ax.errorbar(x_average, y_average, yerr=gb.std()[y_feature], fmt='o', color=color, elinewidth=4, markersize=14)\n",
    "\n",
    "# Fit the data\n",
    "a, b = np.polyfit(x_average, y_average, deg=1)\n",
    "x_fit = np.arange(x_average.min(), x_average.max(), 1)\n",
    "y_fit = a * x_fit + b\n",
    "ax.plot(x_fit, y_fit, color=color, lw=12, alpha=0.4)\n",
    "\n",
    "ax.set_xlabel(\"Taper Length (nm)\", fontsize=font_size)\n",
    "ax.set_ylabel(\"Tip Sigma (PSF + PF) (nm)\", fontsize=font_size)\n",
    "\n",
    "ax.set_ylim(0, 3000)\n",
    "ax.set_ylim(0, 1200)\n",
    "\n",
    "for tick in ax.xaxis.get_major_ticks():\n",
    "    tick.label.set_fontsize(font_size)\n",
    "for tick in ax.yaxis.get_major_ticks():\n",
    "    tick.label.set_fontsize(font_size)\n",
    "    \n",
    "fig.savefig(data_dir / \"taper_length.png\")"
   ]
  },
  {
   "cell_type": "code",
   "execution_count": null,
   "metadata": {},
   "outputs": [],
   "source": []
  }
 ],
 "metadata": {
  "kernelspec": {
   "display_name": "Python [conda env:ws]",
   "language": "python",
   "name": "conda-env-ws-py"
  },
  "language_info": {
   "codemirror_mode": {
    "name": "ipython",
    "version": 3
   },
   "file_extension": ".py",
   "mimetype": "text/x-python",
   "name": "python",
   "nbconvert_exporter": "python",
   "pygments_lexer": "ipython3",
   "version": "3.6.6"
  },
  "toc-autonumbering": false,
  "toc-showcode": false,
  "toc-showmarkdowntxt": true
 },
 "nbformat": 4,
 "nbformat_minor": 2
}
