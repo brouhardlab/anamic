{
 "cells": [
  {
   "cell_type": "code",
   "execution_count": 1,
   "metadata": {},
   "outputs": [
    {
     "name": "stderr",
     "output_type": "stream",
     "text": [
      "/home/hadim/local/conda/envs/ws/lib/python3.6/importlib/_bootstrap.py:219: RuntimeWarning: numpy.dtype size changed, may indicate binary incompatibility. Expected 96, got 88\n",
      "  return f(*args, **kwds)\n",
      "../anamic/transformations.py:1916: UserWarning: No module named 'anamic._transformations'\n",
      "  warnings.warn(str(err))\n"
     ]
    }
   ],
   "source": [
    "%matplotlib inline\n",
    "\n",
    "from pathlib import Path\n",
    "import sys\n",
    "sys.path.append(\"..\")\n",
    "\n",
    "import anamic\n",
    "\n",
    "import numpy as np\n",
    "import pandas as pd\n",
    "import matplotlib.pyplot as plt\n",
    "import ipyvolume as ipv"
   ]
  },
  {
   "cell_type": "code",
   "execution_count": 2,
   "metadata": {},
   "outputs": [
    {
     "data": {
      "image/png": "[encoded data removed]",
      "text/plain": [
       "<Figure size 720x720 with 1 Axes>"
      ]
     },
     "metadata": {
      "needs_background": "light"
     },
     "output_type": "display_data"
    }
   ],
   "source": [
    "n_pf = 13\n",
    "n_rows = 20\n",
    "\n",
    "dimers = np.ones((n_pf, n_rows))\n",
    "dimers = anamic.structure.generate_random_tapers(dimers, 0, 10)\n",
    "\n",
    "_ = anamic.viz.viz_dimers(dimers, start_row=0, grid=True)"
   ]
  },
  {
   "cell_type": "code",
   "execution_count": 12,
   "metadata": {},
   "outputs": [
    {
     "data": {
      "application/vnd.jupyter.widget-view+json": {
       "model_id": "3f52208716524b4ba762b502f78cba64",
       "version_major": 2,
       "version_minor": 0
      },
      "text/plain": [
       "VBox(children=(Figure(camera=PerspectiveCamera(fov=46.0, position=(0.0, 0.0, 2.0), quaternion=(0.0, 0.0, 0.0, …"
      ]
     },
     "metadata": {},
     "output_type": "display_data"
    }
   ],
   "source": [
    "# Calculate dimer positions\n",
    "n_pf = dimers.shape[0]\n",
    "n_rows = dimers.shape[1]\n",
    "\n",
    "# Get the parameters of geometry structure\n",
    "# according to the number of pf.\n",
    "params = anamic.structure.get_structure_parameters().loc[n_pf].to_dict()\n",
    "\n",
    "mt_radius = ((16.4 * n_pf + 46.8) / 2) / 10\n",
    "# Equation 6 of Chretien, 1996\n",
    "skew_angle = - np.arctan((3 * 2 / (13 * 51.5)) - (params['helix_start_number'] * 2 / ( n_pf * 51.5)))\n",
    "    \n",
    "positions = []\n",
    "\n",
    "i_row = 0\n",
    "for i_pf in range(n_pf):\n",
    "    datum = {}\n",
    "    datum['row'] = i_row\n",
    "    datum['pf'] = i_pf\n",
    "    datum['helix'] = 0\n",
    "    datum['x'] = mt_radius * np.sin(i_pf * np.deg2rad(params['hrot']))\n",
    "    datum['y'] = mt_radius * np.cos(i_pf * np.deg2rad(params['hrot']))\n",
    "    datum['z'] = i_pf * params['htrans']\n",
    "    datum['visible'] = False\n",
    "    datum['visible'] = dimers[i_pf, i_row] == 1\n",
    "    positions.append(datum)\n",
    "positions = pd.DataFrame(positions) \n",
    "\n",
    "i_helix = 0\n",
    "for i_row in range(1, n_rows):\n",
    "    \n",
    "    initial_row = positions[positions['row'] == 0]\n",
    "    current_row = initial_row.copy()\n",
    "\n",
    "    current_row['row'] = i_row\n",
    "\n",
    "    # Apply translation.\n",
    "    shift = i_row * 8 * np.cos(skew_angle)\n",
    "    current_row['z'] += shift\n",
    "    \n",
    "    # Apply rotation\n",
    "    rotation = i_row * (360 - n_pf * params['hrot']) / params['helix_start_number'] * 2\n",
    "    rotation = np.deg2rad(rotation)\n",
    "    Rz = anamic.transformations.rotation_matrix(rotation, [0, 0, 1])\n",
    "    current_row[['x', 'y', 'z']] = np.dot(current_row[['x', 'y', 'z']].values, Rz[:3, :3].T)\n",
    "    current_row['visible'] = False\n",
    "    current_row['visible'] = dimers[:, i_row] == 1\n",
    "\n",
    "    # Add new positions to the list\n",
    "    positions = positions.append(current_row, ignore_index=True)\n",
    "\n",
    "anamic.viz.viz_dimer_positions(positions, dimers, size=4, color_feature_name='row')"
   ]
  },
  {
   "cell_type": "code",
   "execution_count": 10,
   "metadata": {},
   "outputs": [],
   "source": [
    "size = 6\n",
    "color_feature_name = 'pf'"
   ]
  },
  {
   "cell_type": "code",
   "execution_count": null,
   "metadata": {},
   "outputs": [],
   "source": []
  },
  {
   "cell_type": "code",
   "execution_count": 16,
   "metadata": {},
   "outputs": [
    {
     "data": {
      "application/vnd.jupyter.widget-view+json": {
       "model_id": "4d2bae417e354cc6bbe9900a6f540cce",
       "version_major": 2,
       "version_minor": 0
      },
      "text/plain": [
       "VBox(children=(Figure(camera=PerspectiveCamera(fov=46.0, position=(0.0, 0.0, 2.0), quaternion=(0.0, 0.0, 0.0, …"
      ]
     },
     "metadata": {},
     "output_type": "display_data"
    }
   ],
   "source": [
    "import matplotlib\n",
    "\n",
    "# Only show visible dimers\n",
    "selected_dimers = positions[positions['visible'] == True]\n",
    "\n",
    "x, y, z = selected_dimers[['x', 'y', 'z']].values.astype('float').T\n",
    "\n",
    "if color_feature_name:\n",
    "    cmap = matplotlib.cm.get_cmap('tab20c')\n",
    "    color = cmap(selected_dimers[color_feature_name].values)\n",
    "else:\n",
    "    color = '#e4191b'\n",
    "\n",
    "ipv.figure(height=800, width=1000)\n",
    "ipv.scatter(x, y, z, size=size, marker='sphere', color=color)\n",
    "ipv.squarelim()\n",
    "ipv.show()"
   ]
  },
  {
   "cell_type": "code",
   "execution_count": null,
   "metadata": {},
   "outputs": [],
   "source": []
  }
 ],
 "metadata": {
  "kernelspec": {
   "display_name": "Python [conda env:ws]",
   "language": "python",
   "name": "conda-env-ws-py"
  },
  "language_info": {
   "codemirror_mode": {
    "name": "ipython",
    "version": 3
   },
   "file_extension": ".py",
   "mimetype": "text/x-python",
   "name": "python",
   "nbconvert_exporter": "python",
   "pygments_lexer": "ipython3",
   "version": "3.6.6"
  }
 },
 "nbformat": 4,
 "nbformat_minor": 2
}
