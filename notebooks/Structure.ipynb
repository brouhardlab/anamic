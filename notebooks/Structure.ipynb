{
 "cells": [
  {
   "cell_type": "code",
   "execution_count": 1,
   "metadata": {},
   "outputs": [
    {
     "name": "stderr",
     "output_type": "stream",
     "text": [
      "../anamic/transformations.py:1916: UserWarning: No module named 'anamic._transformations'\n",
      "  warnings.warn(str(err))\n"
     ]
    }
   ],
   "source": [
    "%matplotlib inline\n",
    "\n",
    "from pathlib import Path\n",
    "import sys\n",
    "sys.path.append(\"..\")\n",
    "\n",
    "import anamic\n",
    "\n",
    "import tqdm\n",
    "import numpy as np\n",
    "import pandas as pd\n",
    "import matplotlib.pyplot as plt\n",
    "import ipyvolume as ipv"
   ]
  },
  {
   "cell_type": "code",
   "execution_count": 9,
   "metadata": {},
   "outputs": [
    {
     "data": {
      "image/png": "[encoded data removed]",
      "text/plain": [
       "<Figure size 3888x3888 with 1 Axes>"
      ]
     },
     "metadata": {
      "needs_background": "light"
     },
     "output_type": "display_data"
    }
   ],
   "source": [
    "# Define the structure of the MT\n",
    "# as a 2D array where:\n",
    "# - x corresponds to rows of dimers.\n",
    "# - y corresponds to each protofilaments.\n",
    "# - a value of 1 means there is a dimer.\n",
    "# - a value of 0 means there is nothing.\n",
    "\n",
    "n_pf = 11\n",
    "n_rows = 200\n",
    "\n",
    "dimers = np.ones((n_pf, n_rows))\n",
    "dimers = anamic.structure.generate_random_tapers(dimers, 0, 10)\n",
    "\n",
    "_ = anamic.viz.viz_dimers(dimers, start_row=0, grid=True)"
   ]
  },
  {
   "cell_type": "code",
   "execution_count": 10,
   "metadata": {},
   "outputs": [],
   "source": [
    "# Calculate the x, y and z positions of each dimers.\n",
    "# Note that this code is packed in the following function:\n",
    "# `anamic.structure.get_dimer_positions(dimers)`\n",
    "\n",
    "n_pf = dimers.shape[0]\n",
    "n_rows = dimers.shape[1]\n",
    "\n",
    "# Get the parameters of geometry structure\n",
    "# according to the number of pf.\n",
    "params = anamic.structure.get_structure_parameters().loc[n_pf].to_dict()\n",
    "\n",
    "long_dimer_distance = 8  # nm\n",
    "\n",
    "# Calculate the radius of the MT from n_pf\n",
    "mt_radius = ((16.4 * n_pf + 20) / 2) / 10\n",
    "\n",
    "# The dimer_factor is needed because we calculate theta from\n",
    "# dimer's center to dimer's center (not from monomer center).\n",
    "dimer_factor = 2/3\n",
    "\n",
    "# Calculate the theta angle (TODO: needs a better description)\n",
    "theta = (360 - n_pf * params['hrot']) * dimer_factor\n",
    "\n",
    "# Calculate the skew angle, the angle from one row to the next.\n",
    "skew_angle = -1 * np.arcsin(0.25 * mt_radius * np.sin(0.5 * np.deg2rad(theta)))\n",
    "\n",
    "# Init the list of positions\n",
    "positions = pd.DataFrame()\n",
    "\n",
    "# Calculate the position of the dimers\n",
    "# of the first row.\n",
    "i_row = 0\n",
    "for i_pf in range(n_pf):\n",
    "    datum = {}\n",
    "    \n",
    "    # Row index\n",
    "    datum['row'] = i_row\n",
    "    \n",
    "    # Protofilament index\n",
    "    datum['pf'] = i_pf\n",
    "\n",
    "    # Spatial coordinates\n",
    "    datum['x'] = mt_radius * np.sin(i_pf * np.deg2rad(params['hrot']))\n",
    "    datum['y'] = mt_radius * np.cos(i_pf * np.deg2rad(params['hrot']))\n",
    "    datum['z'] = i_pf * params['htrans']\n",
    "    \n",
    "    # Is the dimer visible ?\n",
    "    datum['visible'] = dimers[i_pf, i_row] == 1\n",
    "    \n",
    "    # Store the positions in the dataframe\n",
    "    positions = positions.append(pd.Series(datum), ignore_index=True)\n",
    "\n",
    "# Starting from the first row, we calculcate\n",
    "# the rows of dimers above it by applying:\n",
    "# - a translation along the Z axis.\n",
    "# - a rotation on the Z axis\n",
    "i_helix = 0\n",
    "first_row = positions[positions['row'] == 0]\n",
    "for i_row in range(1, n_rows):\n",
    "    \n",
    "    current_row = first_row.copy()\n",
    "    current_row['row'] = i_row\n",
    "\n",
    "    # Apply translation.\n",
    "    shift = i_row * long_dimer_distance * np.cos(skew_angle)\n",
    "    current_row['z'] += shift\n",
    "    \n",
    "    # Apply rotation\n",
    "    rotation = np.deg2rad(i_row * theta)\n",
    "    Rz = anamic.transformations.rotation_matrix(rotation, [0, 0, 1])\n",
    "    current_row[['x', 'y', 'z']] = np.dot(current_row[['x', 'y', 'z']].values, Rz[:3, :3].T)\n",
    "    current_row['visible'] = dimers[:, i_row] == 1\n",
    "\n",
    "    # Add new row's dimer positions to dataframe.\n",
    "    positions = positions.append(current_row, ignore_index=True)"
   ]
  },
  {
   "cell_type": "code",
   "execution_count": 11,
   "metadata": {},
   "outputs": [
    {
     "data": {
      "application/vnd.jupyter.widget-view+json": {
       "model_id": "964b5d8d3d5a4ca49bfdd957210b6dce",
       "version_major": 2,
       "version_minor": 0
      },
      "text/plain": [
       "VBox(children=(Figure(camera=PerspectiveCamera(fov=46.0, position=(0.0, 0.0, 2.0), quaternion=(0.0, 0.0, 0.0, …"
      ]
     },
     "metadata": {},
     "output_type": "display_data"
    }
   ],
   "source": [
    "# Visualize the dimers position in 3D\n",
    "anamic.viz.viz_dimer_positions(positions, size=1, color_feature_name='pf')"
   ]
  },
  {
   "cell_type": "markdown",
   "metadata": {},
   "source": [
    "---\n",
    "# 3D Structure Validation\n",
    "\n",
    "Here we validate the 3D structure by computing various metrics from the dimer's positions."
   ]
  },
  {
   "cell_type": "code",
   "execution_count": 93,
   "metadata": {},
   "outputs": [
    {
     "name": "stderr",
     "output_type": "stream",
     "text": [
      "\n",
      "\n",
      "  0%|          | 0/5 [00:00<?, ?it/s]\u001b[A\u001b[A\n",
      "\n",
      " 20%|██        | 1/5 [00:09<00:38,  9.52s/it]\u001b[A\u001b[A\n",
      "\n",
      " 40%|████      | 2/5 [00:29<00:38, 12.68s/it]\u001b[A\u001b[A\n",
      "\n",
      " 60%|██████    | 3/5 [00:47<00:28, 14.28s/it]\u001b[A\u001b[A"
     ]
    },
    {
     "name": "stdout",
     "output_type": "stream",
     "text": [
      "Pitch cannot be found for 13 pf numbers with 400 rows.\n"
     ]
    },
    {
     "name": "stderr",
     "output_type": "stream",
     "text": [
      "\n",
      "\n",
      " 80%|████████  | 4/5 [01:45<00:27, 27.45s/it]\u001b[A\u001b[A\n",
      "\n",
      "100%|██████████| 5/5 [02:06<00:00, 25.39s/it]\u001b[A\u001b[A\n",
      "\n",
      "\u001b[A\u001b[A"
     ]
    },
    {
     "data": {
      "text/html": [
       "<div>\n",
       "<style scoped>\n",
       "    .dataframe tbody tr th:only-of-type {\n",
       "        vertical-align: middle;\n",
       "    }\n",
       "\n",
       "    .dataframe tbody tr th {\n",
       "        vertical-align: top;\n",
       "    }\n",
       "\n",
       "    .dataframe thead th {\n",
       "        text-align: right;\n",
       "    }\n",
       "</style>\n",
       "<table border=\"1\" class=\"dataframe\">\n",
       "  <thead>\n",
       "    <tr style=\"text-align: right;\">\n",
       "      <th></th>\n",
       "      <th>diameter</th>\n",
       "      <th>lat_dimer_distances</th>\n",
       "      <th>long_dimer_distance</th>\n",
       "      <th>n_pf</th>\n",
       "      <th>n_rows</th>\n",
       "      <th>pitch</th>\n",
       "      <th>skew_angle</th>\n",
       "    </tr>\n",
       "  </thead>\n",
       "  <tbody>\n",
       "    <tr>\n",
       "      <th>0</th>\n",
       "      <td>20.039995</td>\n",
       "      <td>5.711245</td>\n",
       "      <td>8.0</td>\n",
       "      <td>11</td>\n",
       "      <td>250</td>\n",
       "      <td>1518.706818</td>\n",
       "      <td>-2.363614</td>\n",
       "    </tr>\n",
       "    <tr>\n",
       "      <th>1</th>\n",
       "      <td>21.680000</td>\n",
       "      <td>5.680856</td>\n",
       "      <td>8.0</td>\n",
       "      <td>12</td>\n",
       "      <td>500</td>\n",
       "      <td>2999.226763</td>\n",
       "      <td>-1.300897</td>\n",
       "    </tr>\n",
       "    <tr>\n",
       "      <th>2</th>\n",
       "      <td>23.247046</td>\n",
       "      <td>5.658836</td>\n",
       "      <td>8.0</td>\n",
       "      <td>13</td>\n",
       "      <td>400</td>\n",
       "      <td>NaN</td>\n",
       "      <td>-0.029150</td>\n",
       "    </tr>\n",
       "    <tr>\n",
       "      <th>3</th>\n",
       "      <td>24.960000</td>\n",
       "      <td>5.633846</td>\n",
       "      <td>8.0</td>\n",
       "      <td>14</td>\n",
       "      <td>1200</td>\n",
       "      <td>5535.445125</td>\n",
       "      <td>0.811224</td>\n",
       "    </tr>\n",
       "    <tr>\n",
       "      <th>4</th>\n",
       "      <td>26.600000</td>\n",
       "      <td>5.597225</td>\n",
       "      <td>8.0</td>\n",
       "      <td>15</td>\n",
       "      <td>400</td>\n",
       "      <td>1685.945288</td>\n",
       "      <td>-2.827294</td>\n",
       "    </tr>\n",
       "  </tbody>\n",
       "</table>\n",
       "</div>"
      ],
      "text/plain": [
       "    diameter  lat_dimer_distances  long_dimer_distance  n_pf  n_rows  \\\n",
       "0  20.039995             5.711245                  8.0    11     250   \n",
       "1  21.680000             5.680856                  8.0    12     500   \n",
       "2  23.247046             5.658836                  8.0    13     400   \n",
       "3  24.960000             5.633846                  8.0    14    1200   \n",
       "4  26.600000             5.597225                  8.0    15     400   \n",
       "\n",
       "         pitch  skew_angle  \n",
       "0  1518.706818   -2.363614  \n",
       "1  2999.226763   -1.300897  \n",
       "2          NaN   -0.029150  \n",
       "3  5535.445125    0.811224  \n",
       "4  1685.945288   -2.827294  "
      ]
     },
     "execution_count": 93,
     "metadata": {},
     "output_type": "execute_result"
    }
   ],
   "source": [
    "n_all_rows = [250, 500, 400, 1200, 400]\n",
    "n_pfs = [11, 12, 13, 14, 15]\n",
    "#n_pfs = [11]\n",
    "\n",
    "data = []\n",
    "for n_pf, n_rows in tqdm.tqdm(zip(n_pfs, n_all_rows), total=len(n_pfs)):\n",
    "    \n",
    "    dimers = np.ones((n_pf, n_rows))\n",
    "    positions = anamic.structure.get_dimer_positions(dimers)\n",
    "    indexed_positions = positions.set_index(['pf', 'row'])\n",
    "    \n",
    "    datum = {}\n",
    "    datum['n_pf'] = n_pf\n",
    "    datum['n_rows'] = n_rows\n",
    "\n",
    "    # Calculate the longitudinal interdimer distances\n",
    "    # for all protofilaments.\n",
    "    long_dimer_distances = []\n",
    "    for i_pf in range(n_pf):\n",
    "        pos = positions[positions['pf'] == i_pf]\n",
    "        distances = np.sqrt(np.sum(pos[['x', 'y', 'z']].diff() ** 2, axis=1))[1:]\n",
    "        long_dimer_distances.extend(distances)\n",
    "    datum['long_dimer_distance'] = np.mean(long_dimer_distances)\n",
    "    \n",
    "    # Calculate the lateral interdimer distances.\n",
    "    lat_dimer_distances = []\n",
    "    for i_pf in range(n_pf - 1):\n",
    "        for i_row in range(n_rows):\n",
    "            dimer1 = indexed_positions.loc[i_pf, i_row]\n",
    "            dimer2 = indexed_positions.loc[i_pf + 1, i_row]\n",
    "            lat_dist = np.sqrt(np.sum((dimer1[['x', 'y', 'z']] - dimer2[['x', 'y', 'z']]) ** 2, axis=0))\n",
    "            lat_dimer_distances.append(lat_dist)\n",
    "    datum['lat_dimer_distances'] = np.mean(lat_dimer_distances)\n",
    "        \n",
    "    # Estimate the microtubule diameter\n",
    "    # TODO: not sure how accurate is that\n",
    "    x_diameter = positions['x'].max() - positions['x'].min()\n",
    "    y_diameter = positions['y'].max() - positions['y'].min()\n",
    "    datum['diameter'] = np.mean([x_diameter, y_diameter])\n",
    "            \n",
    "    # See anamic.structure.get_dimer_positions() for details.\n",
    "    params = anamic.structure.get_structure_parameters().loc[n_pf].to_dict()\n",
    "    mt_radius = ((16.4 * n_pf + 20) / 2) / 10\n",
    "    dimer_factor = 2/3\n",
    "    theta = (360 - n_pf * params['hrot']) * dimer_factor\n",
    "    skew_angle = -1 * np.arcsin(0.25 * mt_radius * np.sin(0.5 * np.deg2rad(theta)))\n",
    "    datum['skew_angle'] = np.rad2deg(skew_angle)\n",
    "        \n",
    "    # We get the pitch by looking at the variation of\n",
    "    # the y positions for one protofilament.\n",
    "\n",
    "    # We do it only for the pf #0 but itwill be the same for all of them.\n",
    "    # Same comment apply for axis choosed (x or y).\n",
    "    i_pf = 0\n",
    "    y = indexed_positions.loc[i_pf, 'x']\n",
    "    cross_x_axis_indices = np.where(np.diff(np.sign(y)) < 0)[0]\n",
    "    pitch_positions = indexed_positions.loc[i_pf].loc[cross_x_axis_indices]\n",
    "\n",
    "    if pitch_positions.shape[0] < 2:\n",
    "        print(f\"Pitch cannot be found for {n_pf} pf numbers with {n_rows} rows.\")\n",
    "        datum['pitch'] = np.nan\n",
    "    else:\n",
    "        datum['pitch'] = pitch_positions['z'].diff().values[1]\n",
    "        \n",
    "    data.append(datum)\n",
    "    \n",
    "data = pd.DataFrame(data)\n",
    "data.to_csv(\"MT_Geometry_Metrics.csv\")\n",
    "data"
   ]
  },
  {
   "cell_type": "code",
   "execution_count": 125,
   "metadata": {},
   "outputs": [
    {
     "data": {
      "image/png": "[encoded data removed]",
      "text/plain": [
       "<Figure size 720x720 with 6 Axes>"
      ]
     },
     "metadata": {
      "needs_background": "light"
     },
     "output_type": "display_data"
    }
   ],
   "source": [
    "data = pd.read_csv(\"MT_Geometry_Metrics.csv\")\n",
    "\n",
    "fig, axs = plt.subplots(ncols=2, nrows=3, figsize=(10, 10))\n",
    "axs = axs.flatten()\n",
    "\n",
    "axs[0].plot(data['n_pf'], data['pitch'] / 1000, marker='o', lw=0)\n",
    "axs[0].set_xlabel(\"Pf Number\")\n",
    "axs[0].set_ylabel(\"Pitch (um)\")\n",
    "axs[0].set_xlim(10, 16)\n",
    "axs[0].set_ylim(0, 8)\n",
    "\n",
    "axs[1].plot(data['n_pf'], data['skew_angle'], marker='o', lw=0)\n",
    "axs[1].set_xlabel(\"Pf Number\")\n",
    "axs[1].set_ylabel(\"Skew Angle (degrees)\")\n",
    "axs[1].set_xlim(10, 16)\n",
    "axs[1].set_ylim(-4, 2)\n",
    "\n",
    "axs[2].plot(data['n_pf'], data['diameter'], marker='o', lw=0)\n",
    "axs[2].set_xlabel(\"Pf Number\")\n",
    "axs[2].set_ylabel(\"Diameter (nm)\")\n",
    "axs[2].set_xlim(10, 16)\n",
    "axs[2].set_ylim(18, 30)\n",
    "\n",
    "axs[3].plot(data['n_pf'], data['long_dimer_distance'], marker='o', lw=0)\n",
    "axs[3].set_xlabel(\"Pf Number\")\n",
    "axs[3].set_ylabel(\"Longitudinal interdimer distance (nm)\")\n",
    "axs[3].set_xlim(10, 16)\n",
    "axs[3].set_ylim(7, 9)\n",
    "\n",
    "axs[4].plot(data['n_pf'], data['lat_dimer_distances'], marker='o', lw=0)\n",
    "axs[4].set_xlabel(\"Pf Number\")\n",
    "axs[4].set_ylabel(\"Lateral interdimer distance (nm)\")\n",
    "axs[4].set_xlim(10, 16)\n",
    "axs[4].set_ylim(3, 7)\n",
    "\n",
    "fig.savefig(\"MT_Geometry_Metrics.png\")"
   ]
  }
 ],
 "metadata": {
  "kernelspec": {
   "display_name": "Python [conda env:ws]",
   "language": "python",
   "name": "conda-env-ws-py"
  },
  "language_info": {
   "codemirror_mode": {
    "name": "ipython",
    "version": 3
   },
   "file_extension": ".py",
   "mimetype": "text/x-python",
   "name": "python",
   "nbconvert_exporter": "python",
   "pygments_lexer": "ipython3",
   "version": "3.6.6"
  }
 },
 "nbformat": 4,
 "nbformat_minor": 2
}
