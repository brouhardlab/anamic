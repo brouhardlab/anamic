{
 "cells": [
  {
   "cell_type": "markdown",
   "metadata": {},
   "source": [
    "A notebook I use to design tests. Probably useless for most people."
   ]
  },
  {
   "cell_type": "code",
   "execution_count": 2,
   "metadata": {},
   "outputs": [],
   "source": [
    "%load_ext autoreload\n",
    "%autoreload 2\n",
    "%matplotlib inline\n",
    "\n",
    "from pathlib import Path\n",
    "import sys\n",
    "sys.path.append(\"../../../\")\n",
    "\n",
    "import anamic\n",
    "\n",
    "import tqdm\n",
    "import numpy as np\n",
    "import pandas as pd\n",
    "import numpy.testing as npt\n",
    "import matplotlib.pyplot as plt"
   ]
  },
  {
   "cell_type": "code",
   "execution_count": 56,
   "metadata": {},
   "outputs": [],
   "source": [
    "def test_get_rectangle_from_middle_line():\n",
    "    p1 = [0, 0]\n",
    "    p2 = [1, 1]\n",
    "    rectangle_width = 2\n",
    "\n",
    "    corners = anamic.geometry.get_rectangle_from_middle_line(p1, p2, rectangle_width)\n",
    "\n",
    "    true_corners = np.array([-0.70710678, 0.70710678, 0.70710678, -0.70710678, 1.70710678,\n",
    "                             0.29289322, 0.29289322, 1.70710678])\n",
    "\n",
    "    npt.assert_almost_equal(corners.flatten(), true_corners)"
   ]
  },
  {
   "cell_type": "code",
   "execution_count": 59,
   "metadata": {},
   "outputs": [],
   "source": [
    "image = np.random.random((512, 512))\n",
    "polygon = [[10, 24], [65, 84], [100, 264], [5, 400], [347, 42]]\n",
    "\n",
    "mask = anamic.geometry.get_mask_from_polygon(image, polygon)"
   ]
  },
  {
   "cell_type": "code",
   "execution_count": 60,
   "metadata": {},
   "outputs": [
    {
     "data": {
      "text/plain": [
       "41976"
      ]
     },
     "execution_count": 60,
     "metadata": {},
     "output_type": "execute_result"
    }
   ],
   "source": [
    "mask.sum()"
   ]
  },
  {
   "cell_type": "code",
   "execution_count": 61,
   "metadata": {},
   "outputs": [
    {
     "data": {
      "text/plain": [
       "(512, 512)"
      ]
     },
     "execution_count": 61,
     "metadata": {},
     "output_type": "execute_result"
    }
   ],
   "source": [
    "mask.shape"
   ]
  },
  {
   "cell_type": "code",
   "execution_count": 101,
   "metadata": {},
   "outputs": [
    {
     "data": {
      "text/plain": [
       "2925.0"
      ]
     },
     "execution_count": 101,
     "metadata": {},
     "output_type": "execute_result"
    }
   ],
   "source": [
    "def get_mask_from_polygon(image, polygon):\n",
    "    \"\"\"Get a mask image of pixels inside the polygon.\n",
    "\n",
    "    Args:\n",
    "        image: Numpy array of dimension 2.\n",
    "        polygon: Numpy array of dimension 2 (2xN).\n",
    "\n",
    "."
   ]
  }
 ],
 "metadata": {
  "kernelspec": {
   "display_name": "Python [conda env:ws]",
   "language": "python",
   "name": "conda-env-ws-py"
  },
  "language_info": {
   "codemirror_mode": {
    "name": "ipython",
    "version": 3
   },
   "file_extension": ".py",
   "mimetype": "text/x-python",
   "name": "python",
   "nbconvert_exporter": "python",
   "pygments_lexer": "ipython3",
   "version": "3.6.8"
  }
 },
 "nbformat": 4,
 "nbformat_minor": 2
}
