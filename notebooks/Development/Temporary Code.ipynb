{
 "cells": [
  {
   "cell_type": "code",
   "execution_count": null,
   "metadata": {},
   "outputs": [],
   "source": [
    "# Rebin the image to its final resolution defined by `microscope_pixel_size`.\n",
    "\n",
    "def rebin(arr, new_shape):\n",
    "    shape = (new_shape[0], arr.shape[0] // new_shape[0],\n",
    "             new_shape[1], arr.shape[1] // new_shape[1])\n",
    "    return arr.reshape(shape).sum(-1).sum(1)\n",
    "\n",
    "final_shape = np.array(im.shape) / pixel_size_ratio\n",
    "assert int(final_shape[0]) == final_shape[0]\n",
    "assert int(final_shape[1]) == final_shape[1]\n",
    "final_shape = final_shape.astype('int')\n",
    "\n",
    "im2 = rebin(im, final_shape)\n",
    "\n",
    "# Also save the dimer positions in the new grid\n",
    "positions[['x_pixel_final', 'y_pixel_final']] = positions.loc[:, ['x_pixel_fine', 'y_pixel_fine']] / pixel_size_ratio\n",
    "\n",
    "fig, ax = plt.subplots(figsize=(10, 10))\n",
    "imshow_cb(im2, ax)"
   ]
  }
 ],
 "metadata": {
  "kernelspec": {
   "display_name": "Python [conda env:ws]",
   "language": "python",
   "name": "conda-env-ws-py"
  },
  "language_info": {
   "codemirror_mode": {
    "name": "ipython",
    "version": 3
   },
   "file_extension": ".py",
   "mimetype": "text/x-python",
   "name": "python",
   "nbconvert_exporter": "python",
   "pygments_lexer": "ipython3",
   "version": "3.7.0"
  }
 },
 "nbformat": 4,
 "nbformat_minor": 2
}
