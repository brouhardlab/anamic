{
 "cells": [
  {
   "cell_type": "code",
   "execution_count": 1,
   "metadata": {},
   "outputs": [
    {
     "name": "stderr",
     "output_type": "stream",
     "text": [
      "../../anamic/transformations.py:1916: UserWarning: No module named 'anamic._transformations'\n",
      "  warnings.warn(str(err))\n"
     ]
    }
   ],
   "source": [
    "%matplotlib inline\n",
    "\n",
    "from pathlib import Path\n",
    "import sys\n",
    "sys.path.append(\"../../\")\n",
    "\n",
    "import anamic\n",
    "\n",
    "import tqdm\n",
    "import numpy as np\n",
    "import pandas as pd\n",
    "import matplotlib.pyplot as plt\n",
    "import ipyvolume as ipv"
   ]
  },
  {
   "cell_type": "code",
   "execution_count": 6,
   "metadata": {},
   "outputs": [
    {
     "data": {
      "image/png": "[encoded data removed]",
      "text/plain": [
       "<Figure size 1440x1440 with 1 Axes>"
      ]
     },
     "metadata": {
      "needs_background": "light"
     },
     "output_type": "display_data"
    }
   ],
   "source": [
    "n_pf = 15\n",
    "n_rows = 100\n",
    "\n",
    "dimers = np.ones((n_pf, n_rows))\n",
    "dimers = anamic.structure.generate_random_tapers(dimers, 0, 10)\n",
    "\n",
    "_ = anamic.viz.viz_dimers(dimers, start_row=0, grid=True)"
   ]
  },
  {
   "cell_type": "code",
   "execution_count": 9,
   "metadata": {},
   "outputs": [
    {
     "data": {
      "application/vnd.jupyter.widget-view+json": {
       "model_id": "1fe3031a5de84fe3a5242ed35034f476",
       "version_major": 2,
       "version_minor": 0
      },
      "text/plain": [
       "VBox(children=(Figure(camera=PerspectiveCamera(fov=46.0, position=(0.0, 0.0, 2.0), quaternion=(0.0, 0.0, 0.0, …"
      ]
     },
     "metadata": {},
     "output_type": "display_data"
    }
   ],
   "source": [
    "positions = anamic.structure.get_dimer_positions(dimers)\n",
    "anamic.viz.viz_dimer_positions(positions, size=1, color_feature_name='pf')"
   ]
  },
  {
   "cell_type": "code",
   "execution_count": 5,
   "metadata": {},
   "outputs": [],
   "source": [
    "time_per_frame = 1e-1  # s\n",
    "duration = 1  # s\n",
    "growth_rate = 1  # um/min\n",
    "growth_rate_dimer = growth_rate * 1e3 / 8 / 60  # dimer/s\n",
    "growth_rate_dimer_pf = growth_rate_dimer / n_pf  # dimer/s/pf\n",
    "dimer_prob = 1 / growth_rate_dimer_pf\n",
    "\n",
    "positions = pd.DataFrame()\n",
    "\n",
    "n_step = int(duration / time_per_frame)\n",
    "proba = time_per_frame / growth_rate_dimer_pf\n",
    "for t_index in tqdm.trange(0, n_step, 1):\n",
    "    \n",
    "    for i_pf in range(n_pf):\n",
    "        if np.random.randn() < proba:\n",
    "            \n",
    "            next_position = np.where(dimers[i_pf] == 0)[0][0]\n",
    "            if next_position < dimers.shape[1] - 1:\n",
    "                new_dimers = np.zeros((dimers.shape[0], dimers.shape[1] + 1))\n",
    "                new_dimers[:,:-1] = dimers\n",
    "                dimers = new_dimers\n",
    "            dimers[i_pf, next_position] = 0\n",
    "            \n",
    "    current_positions = anamic.structure.get_dimer_positions(dimers)\n",
    "    current_positions['t_index'] = t_index\n",
    "    current_positions['t'] = t_index * time_per_frame\n",
    "    positions = positions.append(current_positions, ignore_index=True)"
   ]
  }
 ],
 "metadata": {
  "kernelspec": {
   "display_name": "Python [conda env:ws]",
   "language": "python",
   "name": "conda-env-ws-py"
  },
  "language_info": {
   "codemirror_mode": {
    "name": "ipython",
    "version": 3
   },
   "file_extension": ".py",
   "mimetype": "text/x-python",
   "name": "python",
   "nbconvert_exporter": "python",
   "pygments_lexer": "ipython3",
   "version": "3.6.6"
  }
 },
 "nbformat": 4,
 "nbformat_minor": 2
}
