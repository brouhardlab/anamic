{
 "cells": [
  {
   "cell_type": "markdown",
   "metadata": {},
   "source": [
    "# Microtubue Fitter\n",
    "\n",
    "Steps:\n",
    "\n",
    "- Discretize the initial line.\n",
    "- Fit Gaussian to each points to the initial line normal vector crossing the point.\n",
    "- Run linear regression on the previous fit's `mu` values.\n",
    "- From those points, get the line profile with a certain thickness.\n",
    "- Fit the line profile to an half Gaussian or the error function.\n",
    "- Done :-)"
   ]
  },
  {
   "cell_type": "code",
   "execution_count": 1,
   "metadata": {},
   "outputs": [
    {
     "name": "stderr",
     "output_type": "stream",
     "text": [
      "../../anamic/transformations.py:1916: UserWarning: No module named 'anamic._transformations'\n",
      "  warnings.warn(str(err))\n"
     ]
    }
   ],
   "source": [
    "%matplotlib inline\n",
    "\n",
    "from pathlib import Path\n",
    "import json\n",
    "import sys\n",
    "sys.path.append(\"../../\")\n",
    "\n",
    "import anamic\n",
    "\n",
    "import numpy as np\n",
    "import pandas as pd\n",
    "import matplotlib.pyplot as plt\n",
    "import tifffile\n",
    "from scipy import ndimage\n",
    "\n",
    "data_dir = Path('/home/hadim/Drive/Data/Fake Microtubules/anamic')"
   ]
  },
  {
   "cell_type": "code",
   "execution_count": 2,
   "metadata": {},
   "outputs": [],
   "source": [
    "condition = \"taper_length_nm_1500\"\n",
    "fnames = list((data_dir / condition).glob(\"*.tif\"))\n",
    "\n",
    "index = 2\n",
    "fname = fnames[index]\n",
    "\n",
    "# Open the image\n",
    "im = tifffile.imread(str(fname))\n",
    "\n",
    "# Load metadata\n",
    "metadata = json.load(open(fname.with_suffix('.json')))\n",
    "\n",
    "# Get microtubule tip coordinates\n",
    "tip_start = np.array(metadata['tip_start'])\n",
    "tip_end = np.array(metadata['tip_end'])"
   ]
  }
 ],
 "metadata": {
  "kernelspec": {
   "display_name": "Python [conda env:ws]",
   "language": "python",
   "name": "conda-env-ws-py"
  },
  "language_info": {
   "codemirror_mode": {
    "name": "ipython",
    "version": 3
   },
   "file_extension": ".py",
   "mimetype": "text/x-python",
   "name": "python",
   "nbconvert_exporter": "python",
   "pygments_lexer": "ipython3",
   "version": "3.6.6"
  }
 },
 "nbformat": 4,
 "nbformat_minor": 2
}
