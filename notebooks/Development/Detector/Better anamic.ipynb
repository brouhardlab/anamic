{
 "cells": [
  {
   "cell_type": "code",
   "execution_count": null,
   "metadata": {},
   "outputs": [],
   "source": [
    "%load_ext autoreload\n",
    "%autoreload 2\n",
    "%matplotlib inline\n",
    "\n",
    "from pathlib import Path\n",
    "\n",
    "import sys; sys.path.append(\"../../\")\n",
    "import anamic\n",
    "\n",
    "import numpy as np\n",
    "import pandas as pd\n",
    "import matplotlib.pyplot as plt\n",
    "import tifffile\n",
    "import read_roi\n",
    "\n",
    "data_dir = Path(\"/home/hadim/Documents/Code/Postdoc/ij/testdata/anamic\")\n",
    "\n",
    "# Parameters\n",
    "seed_channel_index = 1\n",
    "mt_channel_index = 0\n",
    "\n",
    "pixel_size = 107  # nm\n",
    "\n",
    "detect_seeds = True\n",
    "track_seeds = True\n",
    "\n",
    "# TODO: Convert fitter into an object."
   ]
  }
 ],
 "metadata": {
  "kernelspec": {
   "display_name": "Python [conda env:ws]",
   "language": "python",
   "name": "conda-env-ws-py"
  },
  "language_info": {
   "codemirror_mode": {
    "name": "ipython",
    "version": 3
   },
   "file_extension": ".py",
   "mimetype": "text/x-python",
   "name": "python",
   "nbconvert_exporter": "python",
   "pygments_lexer": "ipython3",
   "version": "3.6.7"
  }
 },
 "nbformat": 4,
 "nbformat_minor": 4
}
