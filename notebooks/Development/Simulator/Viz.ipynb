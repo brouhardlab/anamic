{
 "cells": [
  {
   "cell_type": "markdown",
   "metadata": {},
   "source": [
    "- Here we explore the use of `vtki`to create 3D objects we then display using `ipyvolume`.\n",
    "- In the future we might want to use `itkwidgets` to display 3d objects. See https://github.com/InsightSoftwareConsortium/itk-jupyter-widgets/issues/112\n"
   ]
  },
  {
   "cell_type": "code",
   "execution_count": 2,
   "metadata": {},
   "outputs": [
    {
     "name": "stdout",
     "output_type": "stream",
     "text": [
      "The autoreload extension is already loaded. To reload it, use:\n",
      "  %reload_ext autoreload\n"
     ]
    }
   ],
   "source": [
    "%load_ext autoreload\n",
    "%autoreload 2\n",
    "%matplotlib inline\n",
    "\n",
    "from pathlib import Path\n",
    "import sys\n",
    "sys.path.append(\"../../../\")\n",
    "\n",
    "import anamic\n",
    "\n",
    "import numpy as np\n",
    "import matplotlib.pyplot as plt\n",
    "import ipyvolume as ipv\n",
    "import vtki"
   ]
  },
  {
   "cell_type": "code",
   "execution_count": 3,
   "metadata": {},
   "outputs": [
    {
     "name": "stderr",
     "output_type": "stream",
     "text": [
      "100%|██████████| 11/11 [00:00<00:00, 3865.07it/s]\n"
     ]
    }
   ],
   "source": [
    "n_pf = 11\n",
    "mt_length_nm = 100  # nm\n",
    "taper_length_nm = 0  # nm\n",
    "\n",
    "# Create a MicrotubuleSimulator object.\n",
    "dimers = anamic.simulator.dimers_builder(n_pf, mt_length_nm, taper_length_nm)\n",
    "\n",
    "# Set parameters for the image generation.\n",
    "parameters = {}\n",
    "parameters['labeling_ratio'] = 0.1  # from 0 to 1\n",
    "\n",
    "parameters['pixel_size'] = 110  # nm/pixel\n",
    "parameters['x_offset'] = 1500  # nm\n",
    "parameters['y_offset'] = 1500  # nm\n",
    "\n",
    "parameters['psf_size'] = 135  # nm\n",
    "\n",
    "parameters['signal_mean'] = 700\n",
    "parameters['signal_std'] = 100\n",
    "parameters['bg_mean'] = 500\n",
    "parameters['bg_std'] = 24\n",
    "parameters['noise_factor'] = 1\n",
    "\n",
    "parameters['snr_line_width'] = 3  # pixel\n",
    "\n",
    "ms = anamic.simulator.MicrotubuleSimulator(dimers)\n",
    "ms.parameters.update(parameters)\n",
    "\n",
    "# Build the geometry.\n",
    "ms.build_positions(apply_random_z_rotation=True, show_progress=True)\n",
    "ms.label()\n",
    "ms.project()\n",
    "ms.random_rotation_projected()"
   ]
  },
  {
   "cell_type": "code",
   "execution_count": 4,
   "metadata": {},
   "outputs": [],
   "source": [
    "model_path = Path('/home/hadim/Documents/Code/Postdoc/tubulin-dimer.stl')\n",
    "dimer = vtki.PolyData(str(model_path))\n",
    "\n",
    "# Move dimer to center of mass\n",
    "mass_center = dimer.points.mean(axis=0)\n",
    "dimer.translate(mass_center * -1)"
   ]
  },
  {
   "cell_type": "code",
   "execution_count": null,
   "metadata": {},
   "outputs": [],
   "source": [
    "x = dimer.points[:, 0]\n",
    "y = dimer.points[:, 1]\n",
    "z = dimer.points[:, 2]\n",
    "\n",
    "# The faces returned by `PolyData` can be different\n",
    "# than triangle, so we assume `vtki.Sphere.faces` returns\n",
    "# only triangles.\n",
    "triangles = np.array([dimer.faces[1::4], dimer.faces[2::4], dimer.faces[3::4]]).T\n",
    "\n",
    "ipv.figure()\n",
    "ipv.plot_trisurf(x, y, z, triangles=triangles, color='orange')\n",
    "ipv.xyzlim(-50, 50)\n",
    "ipv.show()"
   ]
  },
  {
   "cell_type": "code",
   "execution_count": null,
   "metadata": {},
   "outputs": [],
   "source": []
  }
 ],
 "metadata": {
  "kernelspec": {
   "display_name": "Python [conda env:ws]",
   "language": "python",
   "name": "conda-env-ws-py"
  },
  "language_info": {
   "codemirror_mode": {
    "name": "ipython",
    "version": 3
   },
   "file_extension": ".py",
   "mimetype": "text/x-python",
   "name": "python",
   "nbconvert_exporter": "python",
   "pygments_lexer": "ipython3",
   "version": "3.7.1"
  }
 },
 "nbformat": 4,
 "nbformat_minor": 2
}
