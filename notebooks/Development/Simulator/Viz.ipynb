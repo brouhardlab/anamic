{
 "cells": [
  {
   "cell_type": "markdown",
   "metadata": {},
   "source": [
    "- Here we explore the use of `vtki`to create 3D objects we then display using `ipyvolume`.\n",
    "- In the future we might want to use `itkwidgets` to display 3d objects. See https://github.com/InsightSoftwareConsortium/itk-jupyter-widgets/issues/112\n"
   ]
  },
  {
   "cell_type": "code",
   "execution_count": 1,
   "metadata": {},
   "outputs": [],
   "source": [
    "%load_ext autoreload\n",
    "%autoreload 2\n",
    "%matplotlib inline\n",
    "\n",
    "from pathlib import Path\n",
    "import sys\n",
    "sys.path.append(\"../../../\")\n",
    "\n",
    "import anamic\n",
    "\n",
    "import numpy as np\n",
    "import matplotlib.pyplot as plt\n",
    "import ipyvolume as ipv\n",
    "import vtki"
   ]
  },
  {
   "cell_type": "code",
   "execution_count": 5,
   "metadata": {},
   "outputs": [
    {
     "name": "stderr",
     "output_type": "stream",
     "text": [
      "100%|██████████| 24/24 [00:00<00:00, 4461.63it/s]\n"
     ]
    }
   ],
   "source": [
    "n_pf = 11\n",
    "mt_length_nm = 200  # nm\n",
    "taper_length_nm = 0  # nm\n",
    "\n",
    "# Create a MicrotubuleSimulator object.\n",
    "dimers = anamic.simulator.dimers_builder(n_pf, mt_length_nm, taper_length_nm)\n",
    "\n",
    "# Set parameters for the image generation.\n",
    "parameters = {}\n",
    "parameters['labeling_ratio'] = 0.1  # from 0 to 1\n",
    "\n",
    "parameters['pixel_size'] = 110  # nm/pixel\n",
    "parameters['x_offset'] = 1500  # nm\n",
    "parameters['y_offset'] = 1500  # nm\n",
    "\n",
    "parameters['psf_size'] = 135  # nm\n",
    "\n",
    "parameters['signal_mean'] = 700\n",
    "parameters['signal_std'] = 100\n",
    "parameters['bg_mean'] = 500\n",
    "parameters['bg_std'] = 24\n",
    "parameters['noise_factor'] = 1\n",
    "\n",
    "parameters['snr_line_width'] = 3  # pixel\n",
    "\n",
    "ms = anamic.simulator.MicrotubuleSimulator(dimers)\n",
    "ms.parameters.update(parameters)\n",
    "\n",
    "# Build the geometry.\n",
    "ms.build_positions(apply_random_z_rotation=True, show_progress=True)\n",
    "ms.label()\n",
    "ms.project()\n",
    "ms.random_rotation_projected()"
   ]
  },
  {
   "cell_type": "code",
   "execution_count": 7,
   "metadata": {},
   "outputs": [
    {
     "data": {
      "application/vnd.jupyter.widget-view+json": {
       "model_id": "8e575ac8b3094329b6a21d8fa322f4d7",
       "version_major": 2,
       "version_minor": 0
      },
      "text/plain": [
       "VBox(children=(Figure(camera=PerspectiveCamera(fov=46.0, position=(0.0, 0.0, 2.0), quaternion=(0.0, 0.0, 0.0, …"
      ]
     },
     "metadata": {},
     "output_type": "display_data"
    }
   ],
   "source": [
    "import matplotlib\n",
    "\n",
    "def make_sphere(radius, center, direction=[0, 0, 1], sphere_resolution=50):\n",
    "    sphere = vtki.Sphere(radius, center, direction,\n",
    "                         theta_resolution=sphere_resolution, phi_resolution=sphere_resolution)\n",
    "\n",
    "    x = sphere.points[:, 0]\n",
    "    y = sphere.points[:, 1]\n",
    "    z = sphere.points[:, 2]\n",
    "\n",
    "    # The faces returned by `PolyData` can be different\n",
    "    # than triangle, so we assume `vtki.Sphere.faces` returns\n",
    "    # only triangles.\n",
    "    triangles = np.array([sphere.faces[1::4], sphere.faces[2::4], sphere.faces[3::4]]).T\n",
    "    \n",
    "    return x, y, z, triangles\n",
    "\n",
    "radius = 4\n",
    "direction = [0, 0, 1]\n",
    "sphere_resolution = 30\n",
    "color_feature_name = 'pf'\n",
    "cmap_name=\"tab20c\"\n",
    "\n",
    "# Only show visible dimers\n",
    "selected_dimers = ms.positions[ms.positions['visible'] == True]\n",
    "\n",
    "# Build the dimer's 3D objects.\n",
    "objects = []\n",
    "positions = selected_dimers\n",
    "for _, dimer in positions.iterrows():\n",
    "    center = dimer[['x', 'y', 'z']].values.astype('float32')\n",
    "    obj = make_sphere(radius, center, direction, sphere_resolution)\n",
    "    objects.append(obj)\n",
    "    \n",
    "# Display the 3D scene\n",
    "\n",
    "if color_feature_name:\n",
    "    # TODO: that code should be much simpler...\n",
    "    cmap = matplotlib.cm.get_cmap(cmap_name)\n",
    "    categories = selected_dimers[color_feature_name].unique()\n",
    "    color_indices = cmap([i / len(categories) for i in categories])\n",
    "\n",
    "    colors = np.zeros((len(selected_dimers[color_feature_name]), 4))\n",
    "    for color_index in range(len(categories)):\n",
    "        colors[selected_dimers[color_feature_name] == categories[color_index]] = color_indices[color_index]\n",
    "else:\n",
    "    colors = np.repeat('#e4191b', selected_dimers.shape[0])\n",
    "\n",
    "fig = ipv.figure()\n",
    "\n",
    "for (x, y, z, triangles), color in zip(objects, colors):\n",
    "    ipv.plot_trisurf(x, y, z, triangles=triangles, color=color)\n",
    "\n",
    "ipv.squarelim()\n",
    "ipv.show()"
   ]
  },
  {
   "cell_type": "markdown",
   "metadata": {},
   "source": [
    "---"
   ]
  },
  {
   "cell_type": "code",
   "execution_count": 6,
   "metadata": {},
   "outputs": [
    {
     "data": {
      "application/vnd.jupyter.widget-view+json": {
       "model_id": "ed01aba4a90048a9adce87dec3f07915",
       "version_major": 2,
       "version_minor": 0
      },
      "text/plain": [
       "VBox(children=(Figure(camera=PerspectiveCamera(fov=46.0, position=(0.0, 0.0, 2.0), quaternion=(0.0, 0.0, 0.0, …"
      ]
     },
     "metadata": {},
     "output_type": "display_data"
    }
   ],
   "source": [
    "# Display the PDB model of the alpha/beta-tubulin dimers.\n",
    "\n",
    "model_path = Path('/home/hadim/Documents/Code/Postdoc/Data/tubulin-dimer.stl')\n",
    "dimer = vtki.PolyData(str(model_path))\n",
    "\n",
    "# Move dimer to center of mass\n",
    "mass_center = dimer.points.mean(axis=0)\n",
    "dimer.translate(mass_center * -1)\n",
    "\n",
    "x = dimer.points[:, 0]\n",
    "y = dimer.points[:, 1]\n",
    "z = dimer.points[:, 2]\n",
    "\n",
    "# The faces returned by `PolyData` can be different\n",
    "# than triangle, so we assume `vtki.Sphere.faces` returns\n",
    "# only triangles.\n",
    "triangles = np.array([dimer.faces[1::4], dimer.faces[2::4], dimer.faces[3::4]]).T\n",
    "\n",
    "ipv.figure()\n",
    "ipv.plot_trisurf(x, y, z, triangles=triangles, color='orange')\n",
    "ipv.xyzlim(-50, 50)\n",
    "ipv.show()"
   ]
  },
  {
   "cell_type": "code",
   "execution_count": null,
   "metadata": {},
   "outputs": [],
   "source": []
  }
 ],
 "metadata": {
  "kernelspec": {
   "display_name": "Python [conda env:ws]",
   "language": "python",
   "name": "conda-env-ws-py"
  },
  "language_info": {
   "codemirror_mode": {
    "name": "ipython",
    "version": 3
   },
   "file_extension": ".py",
   "mimetype": "text/x-python",
   "name": "python",
   "nbconvert_exporter": "python",
   "pygments_lexer": "ipython3",
   "version": "3.7.1"
  }
 },
 "nbformat": 4,
 "nbformat_minor": 2
}
