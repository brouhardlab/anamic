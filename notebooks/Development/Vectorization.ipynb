{
 "cells": [
  {
   "cell_type": "code",
   "execution_count": 1,
   "metadata": {},
   "outputs": [],
   "source": [
    "import numpy as np\n",
    "\n",
    "\n",
    "def gaussian_decay_slow_VERY_VERY_VERY_BAD(x, mu, sigma, mt=1, bg=0):\n",
    "    gauss = []\n",
    "    for i in x:\n",
    "        if i < mu:\n",
    "            gauss.append(mt+bg)\n",
    "        else:\n",
    "            gauss.append(mt*np.exp((-1/2)*((i-mu)/sigma)**2)+bg)\n",
    "    return(gauss)\n",
    "\n",
    "\n",
    "def gaussian_decay_vectorized(x, mu, sigma, mt=1, bg=0):\n",
    "    x[x < mu] = mt+bg\n",
    "    x[x >= mu] = mt*np.exp((-1/2)*((x-mu)/sigma)**2)+bg\n",
    "    return x"
   ]
  },
  {
   "cell_type": "code",
   "execution_count": 2,
   "metadata": {},
   "outputs": [
    {
     "name": "stdout",
     "output_type": "stream",
     "text": [
      "6.24 ms ± 233 µs per loop (mean ± std. dev. of 100 runs, 100 loops each)\n"
     ]
    }
   ],
   "source": [
    "%%timeit -r100 -n100\n",
    "x = np.arange(-1000, 1000)\n",
    "gaussian_decay_slow_VERY_VERY_VERY_BAD(x, mu=0, sigma=1, mt=1, bg=0)"
   ]
  },
  {
   "cell_type": "code",
   "execution_count": 3,
   "metadata": {},
   "outputs": [
    {
     "name": "stdout",
     "output_type": "stream",
     "text": [
      "142 µs ± 11.2 µs per loop (mean ± std. dev. of 100 runs, 100 loops each)\n"
     ]
    }
   ],
   "source": [
    "%%timeit -r100 -n100\n",
    "x = np.arange(-1000, 1000)\n",
    "gaussian_decay_vectorized(x, mu=0, sigma=1, mt=1, bg=0)"
   ]
  },
  {
   "cell_type": "code",
   "execution_count": 5,
   "metadata": {},
   "outputs": [
    {
     "data": {
      "text/plain": [
       "\"The vectorized function is 44x faster than the 'forloop' function !!!\""
      ]
     },
     "execution_count": 5,
     "metadata": {},
     "output_type": "execute_result"
    }
   ],
   "source": [
    "slow_function_duration = 6.24  # ms\n",
    "fast_function_duration = 0.142  # ms\n",
    "\n",
    "speedup = slow_function_duration / fast_function_duration\n",
    "f\"The vectorized function is {speedup:.0f}x faster than the 'forloop' function !!!\""
   ]
  }
 ],
 "metadata": {
  "kernelspec": {
   "display_name": "Python [conda env:ws]",
   "language": "python",
   "name": "conda-env-ws-py"
  },
  "language_info": {
   "codemirror_mode": {
    "name": "ipython",
    "version": 3
   },
   "file_extension": ".py",
   "mimetype": "text/x-python",
   "name": "python",
   "nbconvert_exporter": "python",
   "pygments_lexer": "ipython3",
   "version": "3.6.6"
  }
 },
 "nbformat": 4,
 "nbformat_minor": 2
}
