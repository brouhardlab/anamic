{
 "cells": [
  {
   "cell_type": "markdown",
   "metadata": {},
   "source": [
    "Inspired from:\n",
    "\n",
    "- [Model Convolution: A Computational Approach to Digital Image Interpretation, 2010](https://www.ncbi.nlm.nih.gov/pmc/articles/PMC2864900/)"
   ]
  },
  {
   "cell_type": "code",
   "execution_count": 9,
   "metadata": {},
   "outputs": [],
   "source": [
    "%matplotlib inline\n",
    "\n",
    "from pathlib import Path\n",
    "import sys\n",
    "sys.path.append(\"../../\")\n",
    "\n",
    "import anamic\n",
    "\n",
    "import numpy as np\n",
    "import pandas as pd\n",
    "import matplotlib.pyplot as plt\n",
    "import ipyvolume as ipv\n",
    "import skimage\n",
    "from scipy import ndimage"
   ]
  },
  {
   "cell_type": "code",
   "execution_count": 12,
   "metadata": {},
   "outputs": [
    {
     "name": "stdout",
     "output_type": "stream",
     "text": [
      "250\n"
     ]
    },
    {
     "data": {
      "application/vnd.jupyter.widget-view+json": {
       "model_id": "38d1696f49094c50a9074f9decd70221",
       "version_major": 2,
       "version_minor": 0
      },
      "text/plain": [
       "VBox(children=(Figure(camera=PerspectiveCamera(fov=46.0, position=(0.0, 0.0, 2.0), quaternion=(0.0, 0.0, 0.0, …"
      ]
     },
     "metadata": {},
     "output_type": "display_data"
    }
   ],
   "source": [
    "# Define the structure of the MT\n",
    "# as a 2D array where:\n",
    "# - x corresponds to rows of dimers.\n",
    "# - y corresponds to each protofilaments.\n",
    "\n",
    "n_pf = 13\n",
    "long_dimer_distance = 8  # nm\n",
    "mt_length = 2000  # nm\n",
    "taper_length_nm = 200  # nm\n",
    "n_rows = int(np.round(mt_length / long_dimer_distance))\n",
    "print(n_rows)\n",
    "\n",
    "dimers = np.ones((n_pf, n_rows))\n",
    "dimers = anamic.structure.generate_uniform_taper(dimers, taper_length_nm=taper_length_nm)\n",
    "\n",
    "#_ = anamic.viz.viz_dimers(dimers, start_row=-200, grid=True)\n",
    "\n",
    "# Calculate the x, y and z positions of each dimers.\n",
    "positions = anamic.structure.get_dimer_positions(dimers)\n",
    "\n",
    "# Apply a random rotation parallell to the surface (along the z axis)\n",
    "# This is to avoid having the seam always at the same location.\n",
    "rotation = np.deg2rad(np.random.randn() * 360)\n",
    "Rz = anamic.transformations.rotation_matrix(rotation, [0, 0, 1])\n",
    "positions[['x', 'y', 'z']] = np.dot(positions[['x', 'y', 'z']].values, Rz[:3, :3].T)\n",
    "\n",
    "# Apply a certain labeling ratio\n",
    "labeling_ratio = 0.1\n",
    "positions['labeled'] = np.random.random(positions.shape[0]) < labeling_ratio\n",
    "\n",
    "anamic.viz.viz_dimer_positions(positions, size=0.4, color_feature_name='pf')"
   ]
  },
  {
   "cell_type": "code",
   "execution_count": 13,
   "metadata": {},
   "outputs": [],
   "source": [
    "# Project 3D coordinate to 2D plan\n",
    "positions[['x_proj', 'y_proj']] = positions[['x', 'z']].copy()\n",
    "\n",
    "visualize = False\n",
    "\n",
    "if visualize:\n",
    "    color_feature = 'pf'\n",
    "    marker_size = 30\n",
    "    \n",
    "    fig, axs = plt.subplots(nrows=2, figsize=(18, 6), constrained_layout=True)\n",
    "    \n",
    "    # Visualize all dimers\n",
    "    selected_dimers = positions[(positions['visible'] == True)]\n",
    "    anamic.viz.viz_2d_dimers_positions(axs[0], selected_dimers,\n",
    "                                       x_feature=\"y_proj\", y_feature=\"x_proj\",\n",
    "                                       color_feature=color_feature, marker_size=marker_size,\n",
    "                                       x_offset=400)\n",
    "\n",
    "    # Visualize only labeled dimers\n",
    "    selected_dimers = positions[(positions['visible'] == True) & (positions['labeled'] == True)]\n",
    "    anamic.viz.viz_2d_dimers_positions(axs[1], selected_dimers,\n",
    "                                       x_feature=\"y_proj\", y_feature=\"x_proj\",\n",
    "                                       color_feature=color_feature, marker_size=marker_size,\n",
    "                                       x_offset=400)"
   ]
  },
  {
   "cell_type": "code",
   "execution_count": 14,
   "metadata": {},
   "outputs": [],
   "source": [
    "# Apply a random rotation of the projected microtubule positions\n",
    "\n",
    "random_angle = np.deg2rad(np.random.randn() * 180)\n",
    "R = anamic.transformations.rotation_matrix(random_angle, [0, 0, 1])\n",
    "\n",
    "positions['x_proj_rotated'] = np.nan\n",
    "positions['y_proj_rotated'] = np.nan\n",
    "positions[['x_proj_rotated', 'y_proj_rotated']] = np.dot(positions[['x_proj', 'y_proj']], R[:2, :2].T)\n",
    "\n",
    "visualize = False\n",
    "\n",
    "if visualize:\n",
    "    color_feature = 'row'\n",
    "    marker_size = 20\n",
    "    \n",
    "    fig, ax = plt.subplots(figsize=(8, 6), constrained_layout=True)\n",
    "\n",
    "    selected_dimers = positions[(positions['visible'] == True)]\n",
    "    selected_dimers = selected_dimers.groupby('row').mean().reset_index()\n",
    "    anamic.viz.viz_2d_dimers_positions(ax, selected_dimers,\n",
    "                                       x_feature=\"y_proj_rotated\", y_feature=\"x_proj_rotated\",\n",
    "                                       color_feature=color_feature, marker_size=marker_size)"
   ]
  },
  {
   "cell_type": "code",
   "execution_count": 15,
   "metadata": {},
   "outputs": [],
   "source": [
    "# Discretize dimers onto an high resolution image\n",
    "\n",
    "pixel_size = 110  # nm/pixel\n",
    "\n",
    "x_offset = 800  # nm\n",
    "y_offset = 800  # nm\n",
    "\n",
    "x_max = int(np.round(positions['x_proj_rotated'].max() + 1))\n",
    "x_min = int(np.round(positions['x_proj_rotated'].min() - 1))\n",
    "y_max = int(np.round(positions['y_proj_rotated'].max() + 1))\n",
    "y_min = int(np.round(positions['y_proj_rotated'].min() - 1))\n",
    "\n",
    "x_bins = np.arange(x_min - x_offset, x_max + x_offset, pixel_size)\n",
    "y_bins = np.arange(y_min - y_offset, y_max + y_offset, pixel_size)\n",
    "\n",
    "# Select visible and labeled dimers\n",
    "selected_dimers = positions[(positions['visible'] == True) & (positions['labeled'] == True)]\n",
    "\n",
    "# Bin dimers positions to a 2D grid (defined by pixel_size)\n",
    "im, _, _ = np.histogram2d(selected_dimers['x_proj_rotated'], selected_dimers['y_proj_rotated'], bins=[x_bins, y_bins])\n",
    "\n",
    "# Keep the width > height consistant\n",
    "if im.shape[1] < im.shape[0]:\n",
    "    im = im.T\n",
    "    positions[['x_proj', 'y_proj']] = positions.loc[:, ['y_proj', 'x_proj']]\n",
    "    positions[['x_proj_rotated', 'y_proj_rotated']] = positions.loc[:, ['y_proj_rotated', 'x_proj_rotated']]\n",
    "    x_bins, y_bins = y_bins, x_bins\n",
    "\n",
    "# We also save the dimers positions on the fine grid (unit is pixel)\n",
    "# The pixel_shift is not ideal but seems to be necessary...\n",
    "pixel_shift = -1\n",
    "positions.loc[:, 'x_pixel'] = np.digitize(positions['x_proj_rotated'], x_bins) + pixel_shift\n",
    "positions.loc[:, 'y_pixel'] = np.digitize(positions['y_proj_rotated'], y_bins) + pixel_shift\n",
    "    \n",
    "#fig, ax = plt.subplots(figsize=(8, 8))\n",
    "#anamic.viz.imshow_colorbar(im, ax)\n",
    "#anamic.viz.show_tips(ax, positions, coordinates_features=['y_pixel', 'x_pixel'], marker_size=80)"
   ]
  },
  {
   "cell_type": "code",
   "execution_count": 16,
   "metadata": {},
   "outputs": [],
   "source": [
    "# Generate a microscope PSF\n",
    "\n",
    "def generate_psf(kernel_size_pixel, sigma_pixel):\n",
    "    from scipy import signal\n",
    "    gaussian_kernel_1d = signal.gaussian(kernel_size_pixel, std=sigma_pixel)\n",
    "    gaussian_kernel_1d = gaussian_kernel_1d.reshape(kernel_size_pixel, 1)\n",
    "    gaussian_kernel_2d = np.outer(gaussian_kernel_1d, gaussian_kernel_1d)\n",
    "    return gaussian_kernel_2d\n",
    "\n",
    "psf_size = 135  # nm\n",
    "sigma_pixel = psf_size / pixel_size\n",
    "\n",
    "psf = generate_psf(int(sigma_pixel * 10), sigma_pixel)\n",
    "\n",
    "#fig, ax = plt.subplots(figsize=(5, 5))\n",
    "#anamic.viz.imshow_colorbar(psf, ax)"
   ]
  },
  {
   "cell_type": "code",
   "execution_count": 17,
   "metadata": {},
   "outputs": [
    {
     "name": "stdout",
     "output_type": "stream",
     "text": [
      "SNR is 1.94\n"
     ]
    },
    {
     "data": {
      "text/plain": [
       "<matplotlib.legend.Legend at 0x7f65b4127550>"
      ]
     },
     "execution_count": 17,
     "metadata": {},
     "output_type": "execute_result"
    },
    {
     "data": {
      "image/png": "[encoded data removed]",
      "text/plain": [
       "<Figure size 576x576 with 2 Axes>"
      ]
     },
     "metadata": {
      "needs_background": "light"
     },
     "output_type": "display_data"
    }
   ],
   "source": [
    "# Real microscope image parameters\n",
    "signal_mean = 700\n",
    "signal_std = 100\n",
    "bg_mean = 500\n",
    "bg_std = 24\n",
    "noise_factor = 0.1\n",
    "\n",
    "snr = anamic.imaging.compute_snr(signal_mean, signal_std, bg_mean, bg_std)\n",
    "print(f\"SNR is {snr:.02f}\")\n",
    "\n",
    "image = ndimage.convolve(im, psf, mode=\"constant\")\n",
    "\n",
    "# Scale image to 0 - 1\n",
    "image /= image.max()\n",
    "\n",
    "# Bring signal to signal_mean and background to bg_mean\n",
    "image = image * (signal_mean - bg_mean) + bg_mean\n",
    "\n",
    "# Create shot noise\n",
    "# TODO: is it worh it?\n",
    "#image = np.random.poisson(image).astype('float')\n",
    "\n",
    "# Create read noise\n",
    "read_noise = np.random.normal(loc=0, scale=bg_std, size=image.shape) * noise_factor\n",
    "image += read_noise\n",
    "\n",
    "x_start, x_end, y_start, y_end = anamic.structure.get_mt_tips(positions, coordinates_features=['y_pixel', 'x_pixel'])\n",
    "\n",
    "fig, ax = plt.subplots(figsize=(8, 8))\n",
    "anamic.viz.imshow_colorbar(image, ax)\n",
    "ax.scatter([x_start], [y_start], color='cyan', label='Start', marker='x')\n",
    "ax.scatter([x_end], [y_end], color='red', label='End', marker='x')\n",
    "ax.legend()"
   ]
  },
  {
   "cell_type": "code",
   "execution_count": 136,
   "metadata": {},
   "outputs": [],
   "source": [
    "# TODO: Estimate the SNR\n",
    "signal_indices = np.where(im5 > 6000)\n",
    "background_indices = np.where(im5 < 6000)\n",
    "signal = im5[signal_indices]\n",
    "bg = im5[background_indices]\n",
    "snr = (signal.mean() - bg.mean()) / np.sqrt(signal.std()**2 + bg.std()**2)"
   ]
  },
  {
   "cell_type": "code",
   "execution_count": null,
   "metadata": {},
   "outputs": [],
   "source": []
  }
 ],
 "metadata": {
  "kernelspec": {
   "display_name": "Python [conda env:ws]",
   "language": "python",
   "name": "conda-env-ws-py"
  },
  "language_info": {
   "codemirror_mode": {
    "name": "ipython",
    "version": 3
   },
   "file_extension": ".py",
   "mimetype": "text/x-python",
   "name": "python",
   "nbconvert_exporter": "python",
   "pygments_lexer": "ipython3",
   "version": "3.7.0"
  }
 },
 "nbformat": 4,
 "nbformat_minor": 2
}
