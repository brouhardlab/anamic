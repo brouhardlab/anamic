{
 "cells": [
  {
   "cell_type": "code",
   "execution_count": 1,
   "metadata": {},
   "outputs": [
    {
     "name": "stderr",
     "output_type": "stream",
     "text": [
      "../anamic/transformations.py:1916: UserWarning: No module named 'anamic._transformations'\n",
      "  warnings.warn(str(err))\n"
     ]
    }
   ],
   "source": [
    "%matplotlib inline\n",
    "\n",
    "from pathlib import Path\n",
    "import sys\n",
    "sys.path.append(\"..\")\n",
    "\n",
    "import anamic\n",
    "\n",
    "import numpy as np\n",
    "import pandas as pd\n",
    "import matplotlib.pyplot as plt\n",
    "import ipyvolume as ipv"
   ]
  },
  {
   "cell_type": "code",
   "execution_count": 56,
   "metadata": {},
   "outputs": [],
   "source": [
    "n_pf = 13\n",
    "n_rows = 10\n",
    "\n",
    "dimers = np.ones((n_pf, n_rows))\n",
    "dimers = anamic.structure.generate_random_tapers(dimers, 0, 10)"
   ]
  },
  {
   "cell_type": "code",
   "execution_count": 57,
   "metadata": {},
   "outputs": [
    {
     "data": {
      "image/png": "[encoded data removed]",
      "text/plain": [
       "<Figure size 2160x1440 with 1 Axes>"
      ]
     },
     "metadata": {
      "needs_background": "light"
     },
     "output_type": "display_data"
    }
   ],
   "source": [
    "_ = anamic.viz.viz_dimers(dimers, start_row=0, grid=True)"
   ]
  },
  {
   "cell_type": "code",
   "execution_count": 84,
   "metadata": {},
   "outputs": [
    {
     "data": {
      "text/plain": [
       "3"
      ]
     },
     "execution_count": 84,
     "metadata": {},
     "output_type": "execute_result"
    }
   ],
   "source": [
    "n_rows_per_helix"
   ]
  },
  {
   "cell_type": "code",
   "execution_count": 90,
   "metadata": {},
   "outputs": [
    {
     "name": "stdout",
     "output_type": "stream",
     "text": [
      "0 1 0\n",
      "0 2 0\n"
     ]
    },
    {
     "data": {
      "application/vnd.jupyter.widget-view+json": {
       "model_id": "3d3127a669074fe59506589ae24acc6f",
       "version_major": 2,
       "version_minor": 0
      },
      "text/plain": [
       "VBox(children=(Figure(camera=PerspectiveCamera(fov=46.0, position=(0.0, 0.0, 2.0), quaternion=(0.0, 0.0, 0.0, …"
      ]
     },
     "metadata": {},
     "output_type": "display_data"
    }
   ],
   "source": [
    "n_pf = dimers.shape[0]\n",
    "n_rows = dimers.shape[1]\n",
    "\n",
    "# All positions and distances are in angstrom\n",
    "\n",
    "# Get the parameters of geometry structure\n",
    "# according to the number of pf\n",
    "struct = anamic.structure.get_structure_parameters()\n",
    "params = struct.loc[n_pf].to_dict()\n",
    "\n",
    "mt_radius = ((16.4 * n_pf + 46.8) / 2) / 10\n",
    "# From equation 6 of Chretien, 1996\n",
    "skew_angle = - np.arctan((3 * 2 / (13 * 51.5)) - (params['helix_start_number'] * 2 / ( n_pf * 51.5)))\n",
    "    \n",
    "positions = []\n",
    "\n",
    "i_row = 0\n",
    "for i_pf in range(n_pf):\n",
    "    datum = {}\n",
    "    datum['row'] = i_row\n",
    "    datum['pf'] = i_pf\n",
    "    datum['helix'] = 0\n",
    "    datum['x'] = mt_radius * np.sin(i_pf * np.deg2rad(params['hrot']))\n",
    "    datum['y'] = mt_radius * np.cos(i_pf * np.deg2rad(params['hrot']))\n",
    "    datum['z'] = i_pf * params['htrans']\n",
    "    positions.append(datum)\n",
    "positions = pd.DataFrame(positions) \n",
    "\n",
    "n_rows_per_helix = int(n_rows / params['helix_start_number'])\n",
    "\n",
    "i_helix = 0\n",
    "for i_row_per_helix in range(1, n_rows_per_helix):\n",
    "    print(i_helix, i_row_per_helix, (i_row_per_helix + i_helix * n_pf) // n_pf)\n",
    "    \n",
    "    initial_row = positions[positions['row'] == 0]\n",
    "    current_row = initial_row.copy()\n",
    "\n",
    "    current_row['row'] = (i_row_per_helix + i_helix * n_pf) // n_pf\n",
    "    current_row['helix'] = 0\n",
    "\n",
    "    # Apply translation.\n",
    "    shift = i_row_per_helix * 4 * np.cos(skew_angle)\n",
    "    current_row['z'] += shift\n",
    "    \n",
    "    # Apply rotation\n",
    "    rotation = i_row_per_helix * (360 - n_pf * params['hrot']) / params['helix_start_number'] * 2\n",
    "    rotation = np.deg2rad(rotation)\n",
    "    Rz = anamic.transformations.rotation_matrix(rotation, [0, 0, 1])\n",
    "    current_row[['x', 'y', 'z']] = np.dot(current_row[['x', 'y', 'z']].values, Rz[:3, :3].T)\n",
    "\n",
    "    # Add new positions to the list\n",
    "    positions = positions.append(current_row, ignore_index=True)\n",
    "\n",
    "anamic.viz.viz_dimer_positions(positions, size=6, use_ipv=True)"
   ]
  },
  {
   "cell_type": "code",
   "execution_count": 92,
   "metadata": {},
   "outputs": [
    {
     "data": {
      "text/plain": [
       "8.0"
      ]
     },
     "execution_count": 92,
     "metadata": {},
     "output_type": "execute_result"
    }
   ],
   "source": [
    "shift"
   ]
  },
  {
   "cell_type": "code",
   "execution_count": 91,
   "metadata": {},
   "outputs": [
    {
     "data": {
      "text/plain": [
       "(52, 6)"
      ]
     },
     "execution_count": 91,
     "metadata": {},
     "output_type": "execute_result"
    }
   ],
   "source": [
    "positions.shape"
   ]
  },
  {
   "cell_type": "code",
   "execution_count": 76,
   "metadata": {},
   "outputs": [
    {
     "name": "stdout",
     "output_type": "stream",
     "text": [
      "1 0 1\n",
      "1 1 1\n",
      "1 2 1\n",
      "2 0 2\n",
      "2 1 2\n",
      "2 2 2\n",
      "3 0 3\n",
      "3 1 3\n",
      "3 2 3\n"
     ]
    },
    {
     "data": {
      "application/vnd.jupyter.widget-view+json": {
       "model_id": "e923be38f0d3453bb764823b4c12facb",
       "version_major": 2,
       "version_minor": 0
      },
      "text/plain": [
       "VBox(children=(Figure(camera=PerspectiveCamera(fov=46.0, position=(0.0, 0.0, 2.0), quaternion=(0.0, 0.0, 0.0, …"
      ]
     },
     "metadata": {},
     "output_type": "display_data"
    }
   ],
   "source": [
    "# Convert the positions to a Dataframe\n",
    "for i_helix in range(1, int(params['helix_start_number']) + 1):\n",
    "    \n",
    "    for i_row_per_helix in range(0, n_rows_per_helix):\n",
    "        print(i_helix, i_row_per_helix, (i_row_per_helix + i_helix * n_pf) // n_pf)\n",
    "        initial_row = positions[positions['row'] == i_row - 1]\n",
    "        current_row = last_row.copy()\n",
    "        \n",
    "        current_row['row'] = (i_row_per_helix + i_helix * n_pf) // n_pf\n",
    "        current_row['helix'] = i_helix\n",
    "\n",
    "        # Apply a rotation and a translation to the current row according to the last one.\n",
    "        shift = i_helix * 4 * np.cos(skew_angle)\n",
    "        rotation = i_helix * (360 - n_pf * params['hrot']) / params['helix_start_number']\n",
    "        rotation = np.deg2rad(rotation)\n",
    "        Rz = anamic.transformations.rotation_matrix(rotation, [0, 0, 1])\n",
    "        current_row[['x', 'y', 'z']] = np.dot(current_row[['x', 'y', 'z']].values, Rz[:3, :3].T)\n",
    "        current_row['z'] += shift\n",
    "\n",
    "        positions = positions.append(current_row, ignore_index=True)\n",
    "\n",
    "anamic.viz.viz_dimer_positions(positions, size=6, use_ipv=True)"
   ]
  },
  {
   "cell_type": "code",
   "execution_count": 27,
   "metadata": {},
   "outputs": [],
   "source": [
    "import matplotlib\n",
    "c = matplotlib.cm.afmhot(np.linspace(0, 1, 10))"
   ]
  },
  {
   "cell_type": "code",
   "execution_count": 77,
   "metadata": {},
   "outputs": [
    {
     "data": {
      "text/plain": [
       "(13, 6)"
      ]
     },
     "execution_count": 77,
     "metadata": {},
     "output_type": "execute_result"
    }
   ],
   "source": [
    "positions.shape"
   ]
  },
  {
   "cell_type": "code",
   "execution_count": 78,
   "metadata": {},
   "outputs": [
    {
     "data": {
      "text/html": [
       "<div>\n",
       "<style scoped>\n",
       "    .dataframe tbody tr th:only-of-type {\n",
       "        vertical-align: middle;\n",
       "    }\n",
       "\n",
       "    .dataframe tbody tr th {\n",
       "        vertical-align: top;\n",
       "    }\n",
       "\n",
       "    .dataframe thead th {\n",
       "        text-align: right;\n",
       "    }\n",
       "</style>\n",
       "<table border=\"1\" class=\"dataframe\">\n",
       "  <thead>\n",
       "    <tr style=\"text-align: right;\">\n",
       "      <th></th>\n",
       "      <th>helix</th>\n",
       "      <th>pf</th>\n",
       "      <th>row</th>\n",
       "      <th>x</th>\n",
       "      <th>y</th>\n",
       "      <th>z</th>\n",
       "    </tr>\n",
       "  </thead>\n",
       "  <tbody>\n",
       "    <tr>\n",
       "      <th>0</th>\n",
       "      <td>0</td>\n",
       "      <td>0</td>\n",
       "      <td>0</td>\n",
       "      <td>0.000000</td>\n",
       "      <td>13.000000</td>\n",
       "      <td>0.000</td>\n",
       "    </tr>\n",
       "    <tr>\n",
       "      <th>1</th>\n",
       "      <td>0</td>\n",
       "      <td>1</td>\n",
       "      <td>0</td>\n",
       "      <td>6.040938</td>\n",
       "      <td>11.511172</td>\n",
       "      <td>0.939</td>\n",
       "    </tr>\n",
       "    <tr>\n",
       "      <th>2</th>\n",
       "      <td>0</td>\n",
       "      <td>2</td>\n",
       "      <td>0</td>\n",
       "      <td>10.698195</td>\n",
       "      <td>7.385704</td>\n",
       "      <td>1.878</td>\n",
       "    </tr>\n",
       "    <tr>\n",
       "      <th>3</th>\n",
       "      <td>0</td>\n",
       "      <td>3</td>\n",
       "      <td>0</td>\n",
       "      <td>12.905026</td>\n",
       "      <td>1.568536</td>\n",
       "      <td>2.817</td>\n",
       "    </tr>\n",
       "    <tr>\n",
       "      <th>4</th>\n",
       "      <td>0</td>\n",
       "      <td>4</td>\n",
       "      <td>0</td>\n",
       "      <td>12.155954</td>\n",
       "      <td>-4.607905</td>\n",
       "      <td>3.756</td>\n",
       "    </tr>\n",
       "    <tr>\n",
       "      <th>5</th>\n",
       "      <td>0</td>\n",
       "      <td>5</td>\n",
       "      <td>0</td>\n",
       "      <td>8.622554</td>\n",
       "      <td>-9.728903</td>\n",
       "      <td>4.695</td>\n",
       "    </tr>\n",
       "    <tr>\n",
       "      <th>6</th>\n",
       "      <td>0</td>\n",
       "      <td>6</td>\n",
       "      <td>0</td>\n",
       "      <td>3.114154</td>\n",
       "      <td>-12.621491</td>\n",
       "      <td>5.634</td>\n",
       "    </tr>\n",
       "    <tr>\n",
       "      <th>7</th>\n",
       "      <td>0</td>\n",
       "      <td>7</td>\n",
       "      <td>0</td>\n",
       "      <td>-3.107545</td>\n",
       "      <td>-12.623120</td>\n",
       "      <td>6.573</td>\n",
       "    </tr>\n",
       "    <tr>\n",
       "      <th>8</th>\n",
       "      <td>0</td>\n",
       "      <td>8</td>\n",
       "      <td>0</td>\n",
       "      <td>-8.617459</td>\n",
       "      <td>-9.733417</td>\n",
       "      <td>7.512</td>\n",
       "    </tr>\n",
       "    <tr>\n",
       "      <th>9</th>\n",
       "      <td>0</td>\n",
       "      <td>9</td>\n",
       "      <td>0</td>\n",
       "      <td>-12.153539</td>\n",
       "      <td>-4.614269</td>\n",
       "      <td>8.451</td>\n",
       "    </tr>\n",
       "    <tr>\n",
       "      <th>10</th>\n",
       "      <td>0</td>\n",
       "      <td>10</td>\n",
       "      <td>0</td>\n",
       "      <td>-12.905845</td>\n",
       "      <td>1.561779</td>\n",
       "      <td>9.390</td>\n",
       "    </tr>\n",
       "    <tr>\n",
       "      <th>11</th>\n",
       "      <td>0</td>\n",
       "      <td>11</td>\n",
       "      <td>0</td>\n",
       "      <td>-10.702061</td>\n",
       "      <td>7.380101</td>\n",
       "      <td>10.329</td>\n",
       "    </tr>\n",
       "    <tr>\n",
       "      <th>12</th>\n",
       "      <td>0</td>\n",
       "      <td>12</td>\n",
       "      <td>0</td>\n",
       "      <td>-6.046964</td>\n",
       "      <td>11.508007</td>\n",
       "      <td>11.268</td>\n",
       "    </tr>\n",
       "  </tbody>\n",
       "</table>\n",
       "</div>"
      ],
      "text/plain": [
       "    helix  pf  row          x          y       z\n",
       "0       0   0    0   0.000000  13.000000   0.000\n",
       "1       0   1    0   6.040938  11.511172   0.939\n",
       "2       0   2    0  10.698195   7.385704   1.878\n",
       "3       0   3    0  12.905026   1.568536   2.817\n",
       "4       0   4    0  12.155954  -4.607905   3.756\n",
       "5       0   5    0   8.622554  -9.728903   4.695\n",
       "6       0   6    0   3.114154 -12.621491   5.634\n",
       "7       0   7    0  -3.107545 -12.623120   6.573\n",
       "8       0   8    0  -8.617459  -9.733417   7.512\n",
       "9       0   9    0 -12.153539  -4.614269   8.451\n",
       "10      0  10    0 -12.905845   1.561779   9.390\n",
       "11      0  11    0 -10.702061   7.380101  10.329\n",
       "12      0  12    0  -6.046964  11.508007  11.268"
      ]
     },
     "execution_count": 78,
     "metadata": {},
     "output_type": "execute_result"
    }
   ],
   "source": [
    "positions"
   ]
  },
  {
   "cell_type": "code",
   "execution_count": null,
   "metadata": {},
   "outputs": [],
   "source": []
  }
 ],
 "metadata": {
  "kernelspec": {
   "display_name": "Python [conda env:ws]",
   "language": "python",
   "name": "conda-env-ws-py"
  },
  "language_info": {
   "codemirror_mode": {
    "name": "ipython",
    "version": 3
   },
   "file_extension": ".py",
   "mimetype": "text/x-python",
   "name": "python",
   "nbconvert_exporter": "python",
   "pygments_lexer": "ipython3",
   "version": "3.6.6"
  }
 },
 "nbformat": 4,
 "nbformat_minor": 2
}
