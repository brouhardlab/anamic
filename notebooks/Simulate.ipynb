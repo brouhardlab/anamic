{
 "cells": [
  {
   "cell_type": "code",
   "execution_count": 1,
   "metadata": {},
   "outputs": [
    {
     "name": "stderr",
     "output_type": "stream",
     "text": [
      "/home/hadim/local/conda/envs/ws/lib/python3.6/importlib/_bootstrap.py:219: RuntimeWarning: numpy.dtype size changed, may indicate binary incompatibility. Expected 96, got 88\n",
      "  return f(*args, **kwds)\n"
     ]
    }
   ],
   "source": [
    "%matplotlib inline\n",
    "\n",
    "from pathlib import Path\n",
    "import sys\n",
    "sys.path.append(\"..\")\n",
    "\n",
    "import numpy as np\n",
    "import pandas as pd\n",
    "import matplotlib.pyplot as plt\n",
    "import ipyvolume as ipv"
   ]
  },
  {
   "cell_type": "code",
   "execution_count": 2,
   "metadata": {},
   "outputs": [],
   "source": [
    "def viz_dimers(dimers, start_row=0, grid=True):\n",
    "    fig, ax = plt.subplots(figsize=(30, 20))\n",
    "    #extent = [0, dimers.shape[1], 0, dimers.shape[0]]\n",
    "    ax.imshow(dimers, interpolation='none', aspect='equal', cmap='tab10')\n",
    "    if grid:\n",
    "        ax.set_xticks(np.arange(start_row - 0.5, dimers.shape[1] - 0.5), minor=True)\n",
    "        ax.set_yticks(np.arange(-0.5, dimers.shape[0] - 0.5), minor=True)\n",
    "        ax.grid(which='minor', color='black', alpha=0.4)\n",
    "\n",
    "        ax.set_xlim(start_row - 0.5, dimers.shape[1] - 0.5)\n",
    "        ax.set_ylim(-0.5, dimers.shape[0] - 0.5)\n",
    "    return fig\n",
    "\n",
    "\n",
    "def generate_tapers(dimers, min_dimer, max_dimer):\n",
    "    n_pf = dimers.shape[0]\n",
    "    missing_dimers = np.random.randint(0, 30, size=(n_pf,))\n",
    "    for pf, missing_n in zip(dimers, missing_dimers):\n",
    "        if missing_n > 0:\n",
    "            pf[-missing_n:] = 0\n",
    "    return dimers\n",
    "\n",
    "\n",
    "def viz_dimer_positions(positions, use_ipv=True):\n",
    "    x, y, z = positions[['x', 'y', 'z']].values.astype('float').T\n",
    "    \n",
    "    if use_ipv:\n",
    "        ipv.figure(height=400, width=800)\n",
    "        ipv.quickscatter(x, y, z, size=5,  marker='sphere', color='#e4191b')\n",
    "        ipv.squarelim()\n",
    "        ipv.show()\n",
    "    else:\n",
    "        from mpl_toolkits.mplot3d import Axes3D\n",
    "        fig = plt.figure(figsize=(20, 20))\n",
    "        ax = fig.add_subplot(111, projection='3d')\n",
    "        ax.scatter(x, y, z, c='#e4191b', marker='o')\n",
    "\n",
    "        ax.set_xlabel('X')\n",
    "        ax.set_ylabel('Y')\n",
    "        ax.set_zlabel('Z')"
   ]
  },
  {
   "cell_type": "code",
   "execution_count": 3,
   "metadata": {},
   "outputs": [],
   "source": [
    "n_pf = 13\n",
    "n_rows = 200\n",
    "\n",
    "dimers = np.ones((n_pf, n_rows))\n",
    "dimers = generate_tapers(dimers, 0, 25)"
   ]
  },
  {
   "cell_type": "code",
   "execution_count": 4,
   "metadata": {},
   "outputs": [
    {
     "data": {
      "image/png": "[encoded data removed]",
      "text/plain": [
       "<Figure size 2160x1440 with 1 Axes>"
      ]
     },
     "metadata": {
      "needs_background": "light"
     },
     "output_type": "display_data"
    }
   ],
   "source": [
    "_ = viz_dimers(dimers, start_row=100, grid=True)"
   ]
  },
  {
   "cell_type": "code",
   "execution_count": 5,
   "metadata": {},
   "outputs": [],
   "source": [
    "positions = []\n",
    "\n",
    "for row_index in range(dimers.shape[1]):\n",
    "    datum = {}\n",
    "    datum['row'] = row_index\n",
    "    datum['pf'] = 0\n",
    "    datum['x'] = np.random.randint(0, 200)\n",
    "    datum['y'] = np.random.randint(0, 400)\n",
    "    datum['z'] = np.random.randint(0, 200)\n",
    "    \n",
    "    \n",
    "    \n",
    "    positions.append(datum)\n",
    "positions = pd.DataFrame(positions)"
   ]
  },
  {
   "cell_type": "code",
   "execution_count": null,
   "metadata": {},
   "outputs": [],
   "source": []
  },
  {
   "cell_type": "code",
   "execution_count": 6,
   "metadata": {},
   "outputs": [
    {
     "data": {
      "application/vnd.jupyter.widget-view+json": {
       "model_id": "c2692952abdc4a5d84ff643e072b9af9",
       "version_major": 2,
       "version_minor": 0
      },
      "text/plain": [
       "VBox(children=(Figure(camera=PerspectiveCamera(fov=46.0, position=(0.0, 0.0, 2.0), quaternion=(0.0, 0.0, 0.0, …"
      ]
     },
     "metadata": {},
     "output_type": "display_data"
    }
   ],
   "source": [
    "viz_dimer_positions(positions, use_ipv=True)"
   ]
  },
  {
   "cell_type": "code",
   "execution_count": null,
   "metadata": {},
   "outputs": [],
   "source": []
  }
 ],
 "metadata": {
  "kernelspec": {
   "display_name": "Python [conda env:ws]",
   "language": "python",
   "name": "conda-env-ws-py"
  },
  "language_info": {
   "codemirror_mode": {
    "name": "ipython",
    "version": 3
   },
   "file_extension": ".py",
   "mimetype": "text/x-python",
   "name": "python",
   "nbconvert_exporter": "python",
   "pygments_lexer": "ipython3",
   "version": "3.6.6"
  }
 },
 "nbformat": 4,
 "nbformat_minor": 2
}
